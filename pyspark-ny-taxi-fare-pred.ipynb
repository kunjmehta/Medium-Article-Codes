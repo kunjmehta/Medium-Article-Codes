{
 "cells": [
  {
   "cell_type": "markdown",
   "metadata": {},
   "source": [
    "# Imports and Loads"
   ]
  },
  {
   "cell_type": "code",
   "execution_count": 1,
   "metadata": {},
   "outputs": [
    {
     "data": {
      "application/vnd.jupyter.widget-view+json": {
       "model_id": "16da9f2bb46c46ea9259e04cdefa559e",
       "version_major": 2,
       "version_minor": 0
      },
      "text/plain": [
       "VBox()"
      ]
     },
     "metadata": {},
     "output_type": "display_data"
    },
    {
     "name": "stdout",
     "output_type": "stream",
     "text": [
      "Starting Spark application\n"
     ]
    },
    {
     "data": {
      "text/html": [
       "<table>\n",
       "<tr><th>ID</th><th>YARN Application ID</th><th>Kind</th><th>State</th><th>Spark UI</th><th>Driver log</th><th>Current session?</th></tr><tr><td>1</td><td>application_1603703473778_0002</td><td>pyspark</td><td>idle</td><td></td><td></td><td>✔</td></tr></table>"
      ],
      "text/plain": [
       "<IPython.core.display.HTML object>"
      ]
     },
     "metadata": {},
     "output_type": "display_data"
    },
    {
     "data": {
      "application/vnd.jupyter.widget-view+json": {
       "model_id": "",
       "version_major": 2,
       "version_minor": 0
      },
      "text/plain": [
       "FloatProgress(value=0.0, bar_style='info', description='Progress:', layout=Layout(height='25px', width='50%'),…"
      ]
     },
     "metadata": {},
     "output_type": "display_data"
    },
    {
     "name": "stdout",
     "output_type": "stream",
     "text": [
      "SparkSession available as 'spark'.\n"
     ]
    },
    {
     "data": {
      "application/vnd.jupyter.widget-view+json": {
       "model_id": "",
       "version_major": 2,
       "version_minor": 0
      },
      "text/plain": [
       "FloatProgress(value=0.0, bar_style='info', description='Progress:', layout=Layout(height='25px', width='50%'),…"
      ]
     },
     "metadata": {},
     "output_type": "display_data"
    }
   ],
   "source": [
    "import pyspark"
   ]
  },
  {
   "cell_type": "code",
   "execution_count": 2,
   "metadata": {},
   "outputs": [
    {
     "data": {
      "application/vnd.jupyter.widget-view+json": {
       "model_id": "4cf2208f97824c4f9bf570116e8d71ad",
       "version_major": 2,
       "version_minor": 0
      },
      "text/plain": [
       "VBox()"
      ]
     },
     "metadata": {},
     "output_type": "display_data"
    },
    {
     "data": {
      "application/vnd.jupyter.widget-view+json": {
       "model_id": "",
       "version_major": 2,
       "version_minor": 0
      },
      "text/plain": [
       "FloatProgress(value=0.0, bar_style='info', description='Progress:', layout=Layout(height='25px', width='50%'),…"
      ]
     },
     "metadata": {},
     "output_type": "display_data"
    }
   ],
   "source": [
    "import numpy as np\n",
    "import matplotlib.pyplot as plt\n",
    "import seaborn as sns\n",
    "import pandas as pd\n",
    "\n",
    "import pyspark.sql.functions as F\n",
    "from pyspark.sql import Row\n",
    "\n",
    "from pyspark_dist_explore import Histogram, hist, distplot, pandas_histogram"
   ]
  },
  {
   "cell_type": "code",
   "execution_count": 3,
   "metadata": {},
   "outputs": [
    {
     "data": {
      "application/vnd.jupyter.widget-view+json": {
       "model_id": "48ed4379566e4cfdb48c82bdcc737306",
       "version_major": 2,
       "version_minor": 0
      },
      "text/plain": [
       "VBox()"
      ]
     },
     "metadata": {},
     "output_type": "display_data"
    },
    {
     "data": {
      "application/vnd.jupyter.widget-view+json": {
       "model_id": "",
       "version_major": 2,
       "version_minor": 0
      },
      "text/plain": [
       "FloatProgress(value=0.0, bar_style='info', description='Progress:', layout=Layout(height='25px', width='50%'),…"
      ]
     },
     "metadata": {},
     "output_type": "display_data"
    }
   ],
   "source": [
    "train_data_path = 's3://ny-taxi-emr/train.csv'\n",
    "test_data_path = 's3://ny-taxi-emr/test.csv'"
   ]
  },
  {
   "cell_type": "code",
   "execution_count": 4,
   "metadata": {},
   "outputs": [
    {
     "data": {
      "application/vnd.jupyter.widget-view+json": {
       "model_id": "241ddcf30d7644c48a4e0172dfd641c1",
       "version_major": 2,
       "version_minor": 0
      },
      "text/plain": [
       "VBox()"
      ]
     },
     "metadata": {},
     "output_type": "display_data"
    },
    {
     "data": {
      "application/vnd.jupyter.widget-view+json": {
       "model_id": "",
       "version_major": 2,
       "version_minor": 0
      },
      "text/plain": [
       "FloatProgress(value=0.0, bar_style='info', description='Progress:', layout=Layout(height='25px', width='50%'),…"
      ]
     },
     "metadata": {},
     "output_type": "display_data"
    }
   ],
   "source": [
    "train_data = spark.read.csv(train_data_path, header = True, inferSchema \\\n",
    "                           = True, mode=\"DROPMALFORMED\")\n",
    "test_data = spark.read.csv(test_data_path, header = True, inferSchema \\\n",
    "                          = True, mode=\"DROPMALFORMED\")"
   ]
  },
  {
   "cell_type": "markdown",
   "metadata": {},
   "source": [
    "The data consists of eight features:\n",
    "    1. key\n",
    "    2. fare_amount\n",
    "    3. pickup_datetime\n",
    "    4. pickup_longitude\n",
    "    5. pickup_latitude\n",
    "    6. dropoff_longitude\n",
    "    7. dropoff_latitude\n",
    "    8. passenger_count\n",
    "    \n",
    "**key** is for identification.\n",
    "\n",
    "**fare_amount** is the target value we will be predicting for the test set.\n",
    "\n",
    "Rest of the properties are the input features based on which we need to predict the fare amount."
   ]
  },
  {
   "cell_type": "markdown",
   "metadata": {},
   "source": [
    "# Basic Cleaning"
   ]
  },
  {
   "cell_type": "code",
   "execution_count": 5,
   "metadata": {},
   "outputs": [
    {
     "data": {
      "application/vnd.jupyter.widget-view+json": {
       "model_id": "20d0c9bf8fd9449881676b747835cfca",
       "version_major": 2,
       "version_minor": 0
      },
      "text/plain": [
       "VBox()"
      ]
     },
     "metadata": {},
     "output_type": "display_data"
    },
    {
     "data": {
      "application/vnd.jupyter.widget-view+json": {
       "model_id": "",
       "version_major": 2,
       "version_minor": 0
      },
      "text/plain": [
       "FloatProgress(value=0.0, bar_style='info', description='Progress:', layout=Layout(height='25px', width='50%'),…"
      ]
     },
     "metadata": {},
     "output_type": "display_data"
    },
    {
     "name": "stdout",
     "output_type": "stream",
     "text": [
      "Shape of train data (55423856, 8)\n",
      "Shape of test data (9914, 7)"
     ]
    }
   ],
   "source": [
    "print('Shape of train data', (train_data.count(), len(train_data.columns)))\n",
    "print('Shape of test data', (test_data.count(), len(test_data.columns)))"
   ]
  },
  {
   "cell_type": "code",
   "execution_count": 6,
   "metadata": {},
   "outputs": [
    {
     "data": {
      "application/vnd.jupyter.widget-view+json": {
       "model_id": "395e8828d87946fa90cc7f5339ed2fce",
       "version_major": 2,
       "version_minor": 0
      },
      "text/plain": [
       "VBox()"
      ]
     },
     "metadata": {},
     "output_type": "display_data"
    },
    {
     "data": {
      "application/vnd.jupyter.widget-view+json": {
       "model_id": "",
       "version_major": 2,
       "version_minor": 0
      },
      "text/plain": [
       "FloatProgress(value=0.0, bar_style='info', description='Progress:', layout=Layout(height='25px', width='50%'),…"
      ]
     },
     "metadata": {},
     "output_type": "display_data"
    },
    {
     "name": "stdout",
     "output_type": "stream",
     "text": [
      "+-------------------+-----------+--------------------+----------------+---------------+-----------------+----------------+---------------+\n",
      "|                key|fare_amount|     pickup_datetime|pickup_longitude|pickup_latitude|dropoff_longitude|dropoff_latitude|passenger_count|\n",
      "+-------------------+-----------+--------------------+----------------+---------------+-----------------+----------------+---------------+\n",
      "|2009-06-15 17:26:21|        4.5|2009-06-15 17:26:...|      -73.844311|      40.721319|        -73.84161|       40.712278|              1|\n",
      "|2010-01-05 16:52:16|       16.9|2010-01-05 16:52:...|      -74.016048|      40.711303|       -73.979268|       40.782004|              1|\n",
      "|2011-08-18 00:35:00|        5.7|2011-08-18 00:35:...|      -73.982738|       40.76127|       -73.991242|       40.750562|              2|\n",
      "|2012-04-21 04:30:42|        7.7|2012-04-21 04:30:...|       -73.98713|      40.733143|       -73.991567|       40.758092|              1|\n",
      "|2010-03-09 07:51:00|        5.3|2010-03-09 07:51:...|      -73.968095|      40.768008|       -73.956655|       40.783762|              1|\n",
      "+-------------------+-----------+--------------------+----------------+---------------+-----------------+----------------+---------------+\n",
      "only showing top 5 rows"
     ]
    }
   ],
   "source": [
    "train_data.show(5)"
   ]
  },
  {
   "cell_type": "code",
   "execution_count": 7,
   "metadata": {},
   "outputs": [
    {
     "data": {
      "application/vnd.jupyter.widget-view+json": {
       "model_id": "55cc79bf09604522b9428e6288b856ee",
       "version_major": 2,
       "version_minor": 0
      },
      "text/plain": [
       "VBox()"
      ]
     },
     "metadata": {},
     "output_type": "display_data"
    },
    {
     "data": {
      "application/vnd.jupyter.widget-view+json": {
       "model_id": "",
       "version_major": 2,
       "version_minor": 0
      },
      "text/plain": [
       "FloatProgress(value=0.0, bar_style='info', description='Progress:', layout=Layout(height='25px', width='50%'),…"
      ]
     },
     "metadata": {},
     "output_type": "display_data"
    },
    {
     "name": "stdout",
     "output_type": "stream",
     "text": [
      "['key', 'fare_amount', 'pickup_datetime', 'pickup_longitude', 'pickup_latitude', 'dropoff_longitude', 'dropoff_latitude', 'passenger_count']"
     ]
    }
   ],
   "source": [
    "train_data.columns"
   ]
  },
  {
   "cell_type": "code",
   "execution_count": 8,
   "metadata": {},
   "outputs": [
    {
     "data": {
      "application/vnd.jupyter.widget-view+json": {
       "model_id": "5381ae0f655242698625c36e807bd750",
       "version_major": 2,
       "version_minor": 0
      },
      "text/plain": [
       "VBox()"
      ]
     },
     "metadata": {},
     "output_type": "display_data"
    },
    {
     "data": {
      "application/vnd.jupyter.widget-view+json": {
       "model_id": "",
       "version_major": 2,
       "version_minor": 0
      },
      "text/plain": [
       "FloatProgress(value=0.0, bar_style='info', description='Progress:', layout=Layout(height='25px', width='50%'),…"
      ]
     },
     "metadata": {},
     "output_type": "display_data"
    },
    {
     "name": "stdout",
     "output_type": "stream",
     "text": [
      "root\n",
      " |-- key: timestamp (nullable = true)\n",
      " |-- fare_amount: double (nullable = true)\n",
      " |-- pickup_datetime: string (nullable = true)\n",
      " |-- pickup_longitude: double (nullable = true)\n",
      " |-- pickup_latitude: double (nullable = true)\n",
      " |-- dropoff_longitude: double (nullable = true)\n",
      " |-- dropoff_latitude: double (nullable = true)\n",
      " |-- passenger_count: integer (nullable = true)"
     ]
    }
   ],
   "source": [
    "train_data.printSchema()"
   ]
  },
  {
   "cell_type": "markdown",
   "metadata": {},
   "source": [
    "**Create new columns based on datetime**"
   ]
  },
  {
   "cell_type": "code",
   "execution_count": 5,
   "metadata": {},
   "outputs": [
    {
     "data": {
      "application/vnd.jupyter.widget-view+json": {
       "model_id": "7813661d3e91418d87a9859bb9e0f562",
       "version_major": 2,
       "version_minor": 0
      },
      "text/plain": [
       "VBox()"
      ]
     },
     "metadata": {},
     "output_type": "display_data"
    },
    {
     "data": {
      "application/vnd.jupyter.widget-view+json": {
       "model_id": "",
       "version_major": 2,
       "version_minor": 0
      },
      "text/plain": [
       "FloatProgress(value=0.0, bar_style='info', description='Progress:', layout=Layout(height='25px', width='50%'),…"
      ]
     },
     "metadata": {},
     "output_type": "display_data"
    },
    {
     "name": "stdout",
     "output_type": "stream",
     "text": [
      "root\n",
      " |-- key: timestamp (nullable = true)\n",
      " |-- fare_amount: double (nullable = true)\n",
      " |-- pickup_datetime: timestamp (nullable = true)\n",
      " |-- pickup_longitude: double (nullable = true)\n",
      " |-- pickup_latitude: double (nullable = true)\n",
      " |-- dropoff_longitude: double (nullable = true)\n",
      " |-- dropoff_latitude: double (nullable = true)\n",
      " |-- passenger_count: integer (nullable = true)"
     ]
    }
   ],
   "source": [
    "train_data = train_data.withColumn(\"pickup_datetime\", F.to_timestamp(F.col(\"pickup_datetime\"), \"yyyy-MM-dd HH:mm:ss\"))\n",
    "train_data.printSchema()"
   ]
  },
  {
   "cell_type": "code",
   "execution_count": 10,
   "metadata": {},
   "outputs": [
    {
     "data": {
      "application/vnd.jupyter.widget-view+json": {
       "model_id": "f37e9dfbd379470896925d2b58faf812",
       "version_major": 2,
       "version_minor": 0
      },
      "text/plain": [
       "VBox()"
      ]
     },
     "metadata": {},
     "output_type": "display_data"
    },
    {
     "data": {
      "application/vnd.jupyter.widget-view+json": {
       "model_id": "",
       "version_major": 2,
       "version_minor": 0
      },
      "text/plain": [
       "FloatProgress(value=0.0, bar_style='info', description='Progress:', layout=Layout(height='25px', width='50%'),…"
      ]
     },
     "metadata": {},
     "output_type": "display_data"
    },
    {
     "name": "stdout",
     "output_type": "stream",
     "text": [
      "+-------------------+-----------+-------------------+----------------+---------------+-----------------+----------------+---------------+\n",
      "|                key|fare_amount|    pickup_datetime|pickup_longitude|pickup_latitude|dropoff_longitude|dropoff_latitude|passenger_count|\n",
      "+-------------------+-----------+-------------------+----------------+---------------+-----------------+----------------+---------------+\n",
      "|2009-06-15 17:26:21|        4.5|2009-06-15 17:26:21|      -73.844311|      40.721319|        -73.84161|       40.712278|              1|\n",
      "|2010-01-05 16:52:16|       16.9|2010-01-05 16:52:16|      -74.016048|      40.711303|       -73.979268|       40.782004|              1|\n",
      "|2011-08-18 00:35:00|        5.7|2011-08-18 00:35:00|      -73.982738|       40.76127|       -73.991242|       40.750562|              2|\n",
      "|2012-04-21 04:30:42|        7.7|2012-04-21 04:30:42|       -73.98713|      40.733143|       -73.991567|       40.758092|              1|\n",
      "|2010-03-09 07:51:00|        5.3|2010-03-09 07:51:00|      -73.968095|      40.768008|       -73.956655|       40.783762|              1|\n",
      "+-------------------+-----------+-------------------+----------------+---------------+-----------------+----------------+---------------+\n",
      "only showing top 5 rows"
     ]
    }
   ],
   "source": [
    "train_data.show(5)"
   ]
  },
  {
   "cell_type": "code",
   "execution_count": 6,
   "metadata": {},
   "outputs": [
    {
     "data": {
      "application/vnd.jupyter.widget-view+json": {
       "model_id": "e31a0165303f4a7985782b3217e587d1",
       "version_major": 2,
       "version_minor": 0
      },
      "text/plain": [
       "VBox()"
      ]
     },
     "metadata": {},
     "output_type": "display_data"
    },
    {
     "data": {
      "application/vnd.jupyter.widget-view+json": {
       "model_id": "",
       "version_major": 2,
       "version_minor": 0
      },
      "text/plain": [
       "FloatProgress(value=0.0, bar_style='info', description='Progress:', layout=Layout(height='25px', width='50%'),…"
      ]
     },
     "metadata": {},
     "output_type": "display_data"
    }
   ],
   "source": [
    "def create_date_columns():\n",
    "    \"\"\"\n",
    "        Create new rows from pickup_datetime, \n",
    "        namely, date, day, hour, day_of_week, month and year\n",
    "    \"\"\"\n",
    "    # Get datetime.date objects and create a new column pickup_date\n",
    "    new_train_data = train_data.withColumn(\"pickup_date\", F.to_date(F.col(\"pickup_datetime\")))\n",
    "    new_train_data = new_train_data.withColumn(\"pickup_day\", F.dayofmonth(F.col(\"pickup_datetime\")))\n",
    "    new_train_data = new_train_data.withColumn(\"pickup_hour\", F.hour(F.col(\"pickup_datetime\")))\n",
    "    new_train_data = new_train_data.withColumn(\"pickup_day_of_week\", F.dayofweek(F.col(\"pickup_datetime\")))\n",
    "    new_train_data = new_train_data.withColumn(\"pickup_month\", F.month(F.col(\"pickup_datetime\")))\n",
    "    new_train_data = new_train_data.withColumn(\"pickup_year\", F.year(F.col(\"pickup_datetime\")))\n",
    "    \n",
    "    return new_train_data"
   ]
  },
  {
   "cell_type": "code",
   "execution_count": 7,
   "metadata": {},
   "outputs": [
    {
     "data": {
      "application/vnd.jupyter.widget-view+json": {
       "model_id": "0acac56aed2e4692b062f27b632d67c6",
       "version_major": 2,
       "version_minor": 0
      },
      "text/plain": [
       "VBox()"
      ]
     },
     "metadata": {},
     "output_type": "display_data"
    },
    {
     "data": {
      "application/vnd.jupyter.widget-view+json": {
       "model_id": "",
       "version_major": 2,
       "version_minor": 0
      },
      "text/plain": [
       "FloatProgress(value=0.0, bar_style='info', description='Progress:', layout=Layout(height='25px', width='50%'),…"
      ]
     },
     "metadata": {},
     "output_type": "display_data"
    }
   ],
   "source": [
    "new_train_data = create_date_columns()"
   ]
  },
  {
   "cell_type": "code",
   "execution_count": 13,
   "metadata": {
    "scrolled": true
   },
   "outputs": [
    {
     "data": {
      "application/vnd.jupyter.widget-view+json": {
       "model_id": "6bc175d49933445bba299b78ce9c8f17",
       "version_major": 2,
       "version_minor": 0
      },
      "text/plain": [
       "VBox()"
      ]
     },
     "metadata": {},
     "output_type": "display_data"
    },
    {
     "data": {
      "application/vnd.jupyter.widget-view+json": {
       "model_id": "",
       "version_major": 2,
       "version_minor": 0
      },
      "text/plain": [
       "FloatProgress(value=0.0, bar_style='info', description='Progress:', layout=Layout(height='25px', width='50%'),…"
      ]
     },
     "metadata": {},
     "output_type": "display_data"
    },
    {
     "name": "stdout",
     "output_type": "stream",
     "text": [
      "+-------------------+-----------+-------------------+----------------+---------------+-----------------+----------------+---------------+-----------+----------+-----------+------------------+------------+-----------+\n",
      "|                key|fare_amount|    pickup_datetime|pickup_longitude|pickup_latitude|dropoff_longitude|dropoff_latitude|passenger_count|pickup_date|pickup_day|pickup_hour|pickup_day_of_week|pickup_month|pickup_year|\n",
      "+-------------------+-----------+-------------------+----------------+---------------+-----------------+----------------+---------------+-----------+----------+-----------+------------------+------------+-----------+\n",
      "|2009-06-15 17:26:21|        4.5|2009-06-15 17:26:21|      -73.844311|      40.721319|        -73.84161|       40.712278|              1| 2009-06-15|        15|         17|                 2|           6|       2009|\n",
      "|2010-01-05 16:52:16|       16.9|2010-01-05 16:52:16|      -74.016048|      40.711303|       -73.979268|       40.782004|              1| 2010-01-05|         5|         16|                 3|           1|       2010|\n",
      "|2011-08-18 00:35:00|        5.7|2011-08-18 00:35:00|      -73.982738|       40.76127|       -73.991242|       40.750562|              2| 2011-08-18|        18|          0|                 5|           8|       2011|\n",
      "|2012-04-21 04:30:42|        7.7|2012-04-21 04:30:42|       -73.98713|      40.733143|       -73.991567|       40.758092|              1| 2012-04-21|        21|          4|                 7|           4|       2012|\n",
      "|2010-03-09 07:51:00|        5.3|2010-03-09 07:51:00|      -73.968095|      40.768008|       -73.956655|       40.783762|              1| 2010-03-09|         9|          7|                 3|           3|       2010|\n",
      "+-------------------+-----------+-------------------+----------------+---------------+-----------------+----------------+---------------+-----------+----------+-----------+------------------+------------+-----------+\n",
      "only showing top 5 rows"
     ]
    }
   ],
   "source": [
    "new_train_data.show(5)"
   ]
  },
  {
   "cell_type": "markdown",
   "metadata": {},
   "source": [
    "**Check for null entries**"
   ]
  },
  {
   "cell_type": "code",
   "execution_count": 8,
   "metadata": {
    "scrolled": true
   },
   "outputs": [
    {
     "data": {
      "application/vnd.jupyter.widget-view+json": {
       "model_id": "e89cda5d6adb42678c3f62b929a64990",
       "version_major": 2,
       "version_minor": 0
      },
      "text/plain": [
       "VBox()"
      ]
     },
     "metadata": {},
     "output_type": "display_data"
    },
    {
     "data": {
      "application/vnd.jupyter.widget-view+json": {
       "model_id": "",
       "version_major": 2,
       "version_minor": 0
      },
      "text/plain": [
       "FloatProgress(value=0.0, bar_style='info', description='Progress:', layout=Layout(height='25px', width='50%'),…"
      ]
     },
     "metadata": {},
     "output_type": "display_data"
    },
    {
     "name": "stdout",
     "output_type": "stream",
     "text": [
      "+---+-----------+---------------+----------------+---------------+-----------------+----------------+---------------+-----------+----------+-----------+------------------+------------+-----------+\n",
      "|key|fare_amount|pickup_datetime|pickup_longitude|pickup_latitude|dropoff_longitude|dropoff_latitude|passenger_count|pickup_date|pickup_day|pickup_hour|pickup_day_of_week|pickup_month|pickup_year|\n",
      "+---+-----------+---------------+----------------+---------------+-----------------+----------------+---------------+-----------+----------+-----------+------------------+------------+-----------+\n",
      "|  0|          0|              0|               0|              0|              376|             376|              0|          0|         0|          0|                 0|           0|          0|\n",
      "+---+-----------+---------------+----------------+---------------+-----------------+----------------+---------------+-----------+----------+-----------+------------------+------------+-----------+"
     ]
    }
   ],
   "source": [
    "new_train_data.select([F.count(F.when(F.isnull(col), col)).alias(col) for col in new_train_data.columns]).show()"
   ]
  },
  {
   "cell_type": "markdown",
   "metadata": {},
   "source": [
    "**Drop rows with null values**"
   ]
  },
  {
   "cell_type": "code",
   "execution_count": 8,
   "metadata": {
    "scrolled": true
   },
   "outputs": [
    {
     "data": {
      "application/vnd.jupyter.widget-view+json": {
       "model_id": "2989a90d8d4346bcb56a1baff66256e7",
       "version_major": 2,
       "version_minor": 0
      },
      "text/plain": [
       "VBox()"
      ]
     },
     "metadata": {},
     "output_type": "display_data"
    },
    {
     "data": {
      "application/vnd.jupyter.widget-view+json": {
       "model_id": "",
       "version_major": 2,
       "version_minor": 0
      },
      "text/plain": [
       "FloatProgress(value=0.0, bar_style='info', description='Progress:', layout=Layout(height='25px', width='50%'),…"
      ]
     },
     "metadata": {},
     "output_type": "display_data"
    },
    {
     "name": "stdout",
     "output_type": "stream",
     "text": [
      "Length before removal 55423856\n",
      "Length after removal 55423480"
     ]
    }
   ],
   "source": [
    "print('Length before removal', new_train_data.count())\n",
    "new_train_data = new_train_data.filter(new_train_data.dropoff_longitude.isNotNull())\n",
    "new_train_data = new_train_data.filter(new_train_data.dropoff_latitude.isNotNull())\n",
    "print('Length after removal', new_train_data.count())"
   ]
  },
  {
   "cell_type": "markdown",
   "metadata": {},
   "source": [
    "# Visualizations"
   ]
  },
  {
   "cell_type": "markdown",
   "metadata": {},
   "source": [
    "### Fare Amount Data Distribution"
   ]
  },
  {
   "cell_type": "code",
   "execution_count": 16,
   "metadata": {},
   "outputs": [
    {
     "data": {
      "application/vnd.jupyter.widget-view+json": {
       "model_id": "fff5ae470f614e829caef02032d1dace",
       "version_major": 2,
       "version_minor": 0
      },
      "text/plain": [
       "VBox()"
      ]
     },
     "metadata": {},
     "output_type": "display_data"
    },
    {
     "data": {
      "application/vnd.jupyter.widget-view+json": {
       "model_id": "",
       "version_major": 2,
       "version_minor": 0
      },
      "text/plain": [
       "FloatProgress(value=0.0, bar_style='info', description='Progress:', layout=Layout(height='25px', width='50%'),…"
      ]
     },
     "metadata": {},
     "output_type": "display_data"
    },
    {
     "name": "stdout",
     "output_type": "stream",
     "text": [
      "Maximum Fare:Row(max(fare_amount)=93963.36)\n",
      " Minimum Fare: Row(min(fare_amount)=-300.0)"
     ]
    }
   ],
   "source": [
    "print(\"Maximum Fare:{}\\n Minimum Fare: {}\".format(new_train_data.agg({\"fare_amount\": \"max\"}).collect()[0],\\\n",
    "      new_train_data.agg({\"fare_amount\": \"min\"}).collect()[0]))"
   ]
  },
  {
   "cell_type": "markdown",
   "metadata": {},
   "source": [
    "As we can see, there are negative fares as well as extremely high fares. While negative fares don't make any sense, based on data of NY Taxi base fares, we know that the base fare is 2.5. So, we remove all records who have fares less than 2.5. Also, we keep the upper limit as 100, based on intuition"
   ]
  },
  {
   "cell_type": "code",
   "execution_count": 9,
   "metadata": {},
   "outputs": [
    {
     "data": {
      "application/vnd.jupyter.widget-view+json": {
       "model_id": "cc3d4cf49535408ab3b6041fb9b2d9de",
       "version_major": 2,
       "version_minor": 0
      },
      "text/plain": [
       "VBox()"
      ]
     },
     "metadata": {},
     "output_type": "display_data"
    },
    {
     "data": {
      "application/vnd.jupyter.widget-view+json": {
       "model_id": "",
       "version_major": 2,
       "version_minor": 0
      },
      "text/plain": [
       "FloatProgress(value=0.0, bar_style='info', description='Progress:', layout=Layout(height='25px', width='50%'),…"
      ]
     },
     "metadata": {},
     "output_type": "display_data"
    }
   ],
   "source": [
    "train_data_fare_filtered = new_train_data.filter(F.col(\"fare_amount\").between(2.5, 100))"
   ]
  },
  {
   "cell_type": "code",
   "execution_count": 18,
   "metadata": {},
   "outputs": [
    {
     "data": {
      "application/vnd.jupyter.widget-view+json": {
       "model_id": "ab18b899fcda470f83e0ef14d2d610ee",
       "version_major": 2,
       "version_minor": 0
      },
      "text/plain": [
       "VBox()"
      ]
     },
     "metadata": {},
     "output_type": "display_data"
    },
    {
     "data": {
      "application/vnd.jupyter.widget-view+json": {
       "model_id": "",
       "version_major": 2,
       "version_minor": 0
      },
      "text/plain": [
       "FloatProgress(value=0.0, bar_style='info', description='Progress:', layout=Layout(height='25px', width='50%'),…"
      ]
     },
     "metadata": {},
     "output_type": "display_data"
    },
    {
     "name": "stdout",
     "output_type": "stream",
     "text": [
      "+-------------------+-----------+-------------------+----------------+---------------+-----------------+----------------+---------------+-----------+----------+-----------+------------------+------------+-----------+\n",
      "|                key|fare_amount|    pickup_datetime|pickup_longitude|pickup_latitude|dropoff_longitude|dropoff_latitude|passenger_count|pickup_date|pickup_day|pickup_hour|pickup_day_of_week|pickup_month|pickup_year|\n",
      "+-------------------+-----------+-------------------+----------------+---------------+-----------------+----------------+---------------+-----------+----------+-----------+------------------+------------+-----------+\n",
      "|2009-06-15 17:26:21|        4.5|2009-06-15 17:26:21|      -73.844311|      40.721319|        -73.84161|       40.712278|              1| 2009-06-15|        15|         17|               Mon|           6|       2009|\n",
      "|2010-01-05 16:52:16|       16.9|2010-01-05 16:52:16|      -74.016048|      40.711303|       -73.979268|       40.782004|              1| 2010-01-05|         5|         16|               Tue|           1|       2010|\n",
      "|2011-08-18 00:35:00|        5.7|2011-08-18 00:35:00|      -73.982738|       40.76127|       -73.991242|       40.750562|              2| 2011-08-18|        18|          0|               Thu|           8|       2011|\n",
      "|2012-04-21 04:30:42|        7.7|2012-04-21 04:30:42|       -73.98713|      40.733143|       -73.991567|       40.758092|              1| 2012-04-21|        21|          4|               Sat|           4|       2012|\n",
      "|2010-03-09 07:51:00|        5.3|2010-03-09 07:51:00|      -73.968095|      40.768008|       -73.956655|       40.783762|              1| 2010-03-09|         9|          7|               Tue|           3|       2010|\n",
      "+-------------------+-----------+-------------------+----------------+---------------+-----------------+----------------+---------------+-----------+----------+-----------+------------------+------------+-----------+\n",
      "only showing top 5 rows"
     ]
    }
   ],
   "source": [
    "train_data_fare_filtered.show(5)"
   ]
  },
  {
   "cell_type": "code",
   "execution_count": 19,
   "metadata": {},
   "outputs": [
    {
     "data": {
      "application/vnd.jupyter.widget-view+json": {
       "model_id": "7c041a61b91a4a768e0d7594f5ade070",
       "version_major": 2,
       "version_minor": 0
      },
      "text/plain": [
       "VBox()"
      ]
     },
     "metadata": {},
     "output_type": "display_data"
    },
    {
     "data": {
      "application/vnd.jupyter.widget-view+json": {
       "model_id": "",
       "version_major": 2,
       "version_minor": 0
      },
      "text/plain": [
       "FloatProgress(value=0.0, bar_style='info', description='Progress:', layout=Layout(height='25px', width='50%'),…"
      ]
     },
     "metadata": {},
     "output_type": "display_data"
    }
   ],
   "source": [
    "fig = plt.figure()\n",
    "axes = plt.gca()\n",
    "\n",
    "ranges = [2.5,5,10,15,20,30,40,50,60,70,80,90,100]\n",
    "\n",
    "plt.xticks(ticks = ranges[1:], labels= ['2.5-5', '5-10', '10-15', '15-20', '20-30', '30-40', \\\n",
    "            '40-50', '50-60', '60-70','70-80', '80-90', '90-100'], rotation = 'vertical')\n",
    "plt.title('Binned Fare (less than $100)')\n",
    "plt.xlabel('Fare')\n",
    "plt.ylabel('Number of records')\n",
    "\n",
    "hist(axes, train_data_fare_filtered.select(F.col((\"fare_amount\"))), bins = ranges)\n",
    "plt.show()"
   ]
  },
  {
   "cell_type": "code",
   "execution_count": 20,
   "metadata": {},
   "outputs": [
    {
     "data": {
      "application/vnd.jupyter.widget-view+json": {
       "model_id": "",
       "version_major": 2,
       "version_minor": 0
      },
      "text/plain": [
       "FloatProgress(value=0.0, bar_style='info', description='Progress:', layout=Layout(height='25px', width='50%'),…"
      ]
     },
     "metadata": {},
     "output_type": "display_data"
    },
    {
     "data": {
      "image/png": "[encoded data removed]",
      "text/plain": [
       "<IPython.core.display.Image object>"
      ]
     },
     "metadata": {},
     "output_type": "display_data"
    }
   ],
   "source": [
    "%matplot plt"
   ]
  },
  {
   "cell_type": "markdown",
   "metadata": {},
   "source": [
    "We can see from the above plot that trips with fares in the range 2.5(base rate) to 15 is maximum and then there are some trips at the rate of 40-60 which can be some other kind of fixed rates."
   ]
  },
  {
   "cell_type": "markdown",
   "metadata": {},
   "source": [
    "### Passenger Count Distribution"
   ]
  },
  {
   "cell_type": "code",
   "execution_count": 21,
   "metadata": {},
   "outputs": [
    {
     "data": {
      "application/vnd.jupyter.widget-view+json": {
       "model_id": "f28135fa26de4d3f98765a807250ded6",
       "version_major": 2,
       "version_minor": 0
      },
      "text/plain": [
       "VBox()"
      ]
     },
     "metadata": {},
     "output_type": "display_data"
    },
    {
     "data": {
      "application/vnd.jupyter.widget-view+json": {
       "model_id": "",
       "version_major": 2,
       "version_minor": 0
      },
      "text/plain": [
       "FloatProgress(value=0.0, bar_style='info', description='Progress:', layout=Layout(height='25px', width='50%'),…"
      ]
     },
     "metadata": {},
     "output_type": "display_data"
    },
    {
     "name": "stdout",
     "output_type": "stream",
     "text": [
      "Maximum Passengers:Row(max(passenger_count)=208)\n",
      " Minimum Passengers: Row(min(passenger_count)=0)"
     ]
    }
   ],
   "source": [
    "print(\"Maximum Passengers:{}\\n Minimum Passengers: {}\".format(train_data_fare_filtered.agg({\"passenger_count\": \"max\"}).collect()[0],\\\n",
    "      train_data_fare_filtered.agg({\"passenger_count\": \"min\"}).collect()[0]))"
   ]
  },
  {
   "cell_type": "markdown",
   "metadata": {},
   "source": [
    "Again, we can see that the passenger count has high numbers as well as zero value which does not make sense. Again, we filter only those rows where count is [1,6], that is 7 seater cars"
   ]
  },
  {
   "cell_type": "code",
   "execution_count": 10,
   "metadata": {},
   "outputs": [
    {
     "data": {
      "application/vnd.jupyter.widget-view+json": {
       "model_id": "7662f396d25642cea6e85485882b8c5b",
       "version_major": 2,
       "version_minor": 0
      },
      "text/plain": [
       "VBox()"
      ]
     },
     "metadata": {},
     "output_type": "display_data"
    },
    {
     "data": {
      "application/vnd.jupyter.widget-view+json": {
       "model_id": "",
       "version_major": 2,
       "version_minor": 0
      },
      "text/plain": [
       "FloatProgress(value=0.0, bar_style='info', description='Progress:', layout=Layout(height='25px', width='50%'),…"
      ]
     },
     "metadata": {},
     "output_type": "display_data"
    }
   ],
   "source": [
    "train_data_passenger_filtered = train_data_fare_filtered.filter(F.col(\"passenger_count\").between(1,6))"
   ]
  },
  {
   "cell_type": "code",
   "execution_count": 23,
   "metadata": {},
   "outputs": [
    {
     "data": {
      "application/vnd.jupyter.widget-view+json": {
       "model_id": "bc7a57f802df471e8fc9b5b2d8818fc5",
       "version_major": 2,
       "version_minor": 0
      },
      "text/plain": [
       "VBox()"
      ]
     },
     "metadata": {},
     "output_type": "display_data"
    },
    {
     "data": {
      "application/vnd.jupyter.widget-view+json": {
       "model_id": "",
       "version_major": 2,
       "version_minor": 0
      },
      "text/plain": [
       "FloatProgress(value=0.0, bar_style='info', description='Progress:', layout=Layout(height='25px', width='50%'),…"
      ]
     },
     "metadata": {},
     "output_type": "display_data"
    }
   ],
   "source": [
    "fig = plt.figure()\n",
    "axes = plt.gca()\n",
    "\n",
    "ranges = [1,2,3,4,5,6]\n",
    "\n",
    "plt.xticks(rotation = 'vertical')\n",
    "plt.title('Passenger Count')\n",
    "plt.xlabel('Passenger Count')\n",
    "plt.ylabel('Number of records')\n",
    "\n",
    "hist(axes, train_data_passenger_filtered.select(F.col((\"passenger_count\"))), bins = ranges)\n",
    "plt.show()"
   ]
  },
  {
   "cell_type": "code",
   "execution_count": 24,
   "metadata": {},
   "outputs": [
    {
     "data": {
      "application/vnd.jupyter.widget-view+json": {
       "model_id": "",
       "version_major": 2,
       "version_minor": 0
      },
      "text/plain": [
       "FloatProgress(value=0.0, bar_style='info', description='Progress:', layout=Layout(height='25px', width='50%'),…"
      ]
     },
     "metadata": {},
     "output_type": "display_data"
    },
    {
     "data": {
      "image/png": "[encoded data removed]",
      "text/plain": [
       "<IPython.core.display.Image object>"
      ]
     },
     "metadata": {},
     "output_type": "display_data"
    }
   ],
   "source": [
    "%matplot plt"
   ]
  },
  {
   "cell_type": "markdown",
   "metadata": {},
   "source": [
    "### Analyzing Coordinates"
   ]
  },
  {
   "cell_type": "code",
   "execution_count": 25,
   "metadata": {},
   "outputs": [
    {
     "data": {
      "application/vnd.jupyter.widget-view+json": {
       "model_id": "0437d490e417487596e4c1f68e31fd18",
       "version_major": 2,
       "version_minor": 0
      },
      "text/plain": [
       "VBox()"
      ]
     },
     "metadata": {},
     "output_type": "display_data"
    },
    {
     "data": {
      "application/vnd.jupyter.widget-view+json": {
       "model_id": "",
       "version_major": 2,
       "version_minor": 0
      },
      "text/plain": [
       "FloatProgress(value=0.0, bar_style='info', description='Progress:', layout=Layout(height='25px', width='50%'),…"
      ]
     },
     "metadata": {},
     "output_type": "display_data"
    },
    {
     "name": "stdout",
     "output_type": "stream",
     "text": [
      "Range of Pickup Latitude:  Row(max(pickup_latitude)=3408.789565) Row(min(pickup_latitude)=-3492.263768)\n",
      "Range of Pickup Longitude:  Row(max(pickup_longitude)=3457.625683) Row(min(pickup_longitude)=-3442.059565)\n",
      "Range of Dropoff Latitude:  Row(max(dropoff_latitude)=3537.132528) Row(min(dropoff_latitude)=-3547.886698)\n",
      "Range of Dropoff Longitude:  Row(max(dropoff_longitude)=3457.62235) Row(min(dropoff_longitude)=-3442.024565)"
     ]
    }
   ],
   "source": [
    "print(\"Range of Pickup Latitude: \", train_data_passenger_filtered.agg({\"pickup_latitude\": \"max\"}).collect()[0],\\\n",
    "      train_data_passenger_filtered.agg({\"pickup_latitude\": \"min\"}).collect()[0])\n",
    "print(\"Range of Pickup Longitude: \", train_data_passenger_filtered.agg({\"pickup_longitude\": \"max\"}).collect()[0],\\\n",
    "      train_data_passenger_filtered.agg({\"pickup_longitude\": \"min\"}).collect()[0])\n",
    "print(\"Range of Dropoff Latitude: \", train_data_passenger_filtered.agg({\"dropoff_latitude\": \"max\"}).collect()[0],\\\n",
    "      train_data_passenger_filtered.agg({\"dropoff_latitude\": \"min\"}).collect()[0])\n",
    "print(\"Range of Dropoff Longitude: \", train_data_passenger_filtered.agg({\"dropoff_longitude\": \"max\"}).collect()[0],\\\n",
    "      train_data_passenger_filtered.agg({\"dropoff_longitude\": \"min\"}).collect()[0])"
   ]
  },
  {
   "cell_type": "markdown",
   "metadata": {},
   "source": [
    "Again, we see that latitude and longitude has extremities. Now, the central co-ordinate of NY are (40.771133, -73.974187). Using intuition, we keep the records whose co-ordinates are +/- 2 degrees from the centre"
   ]
  },
  {
   "cell_type": "code",
   "execution_count": 26,
   "metadata": {},
   "outputs": [
    {
     "data": {
      "application/vnd.jupyter.widget-view+json": {
       "model_id": "d2fad530a22a4e5e959b264513c125fe",
       "version_major": 2,
       "version_minor": 0
      },
      "text/plain": [
       "VBox()"
      ]
     },
     "metadata": {},
     "output_type": "display_data"
    },
    {
     "data": {
      "application/vnd.jupyter.widget-view+json": {
       "model_id": "",
       "version_major": 2,
       "version_minor": 0
      },
      "text/plain": [
       "FloatProgress(value=0.0, bar_style='info', description='Progress:', layout=Layout(height='25px', width='50%'),…"
      ]
     },
     "metadata": {},
     "output_type": "display_data"
    },
    {
     "name": "stdout",
     "output_type": "stream",
     "text": [
      "55202765"
     ]
    }
   ],
   "source": [
    "train_data_passenger_filtered.count()"
   ]
  },
  {
   "cell_type": "code",
   "execution_count": 11,
   "metadata": {},
   "outputs": [
    {
     "data": {
      "application/vnd.jupyter.widget-view+json": {
       "model_id": "ff823393b9224fd69fbfaa780096cc7d",
       "version_major": 2,
       "version_minor": 0
      },
      "text/plain": [
       "VBox()"
      ]
     },
     "metadata": {},
     "output_type": "display_data"
    },
    {
     "data": {
      "application/vnd.jupyter.widget-view+json": {
       "model_id": "",
       "version_major": 2,
       "version_minor": 0
      },
      "text/plain": [
       "FloatProgress(value=0.0, bar_style='info', description='Progress:', layout=Layout(height='25px', width='50%'),…"
      ]
     },
     "metadata": {},
     "output_type": "display_data"
    }
   ],
   "source": [
    "train_data_filtered = train_data_passenger_filtered.filter((F.col(\"pickup_latitude\").between(38.5, 42.5)))\n",
    "train_data_filtered = train_data_filtered.filter((F.col(\"dropoff_latitude\").between(38.5, 42.5)))\n",
    "train_data_filtered = train_data_filtered.filter((F.col(\"pickup_longitude\").between(-76, -72)))\n",
    "train_data_filtered = train_data_filtered.filter((F.col(\"dropoff_longitude\").between(-76, -72)))"
   ]
  },
  {
   "cell_type": "code",
   "execution_count": 28,
   "metadata": {},
   "outputs": [
    {
     "data": {
      "application/vnd.jupyter.widget-view+json": {
       "model_id": "21c44e7c04384719a6862821598b9bec",
       "version_major": 2,
       "version_minor": 0
      },
      "text/plain": [
       "VBox()"
      ]
     },
     "metadata": {},
     "output_type": "display_data"
    },
    {
     "data": {
      "application/vnd.jupyter.widget-view+json": {
       "model_id": "",
       "version_major": 2,
       "version_minor": 0
      },
      "text/plain": [
       "FloatProgress(value=0.0, bar_style='info', description='Progress:', layout=Layout(height='25px', width='50%'),…"
      ]
     },
     "metadata": {},
     "output_type": "display_data"
    },
    {
     "name": "stdout",
     "output_type": "stream",
     "text": [
      "54057758"
     ]
    }
   ],
   "source": [
    "train_data_filtered.count()"
   ]
  },
  {
   "cell_type": "markdown",
   "metadata": {},
   "source": [
    "### Airport Fare Analysis"
   ]
  },
  {
   "cell_type": "markdown",
   "metadata": {},
   "source": [
    "When we plot the pickups and drops for a small part of the dataset in Pandas, we see that there are many pickups and drops to and from airports. So, we try to confirm that using the co-ordinates of the airports and comparing the average fare for all trips against those for the airports. We do this so we can engineer features that differentiate trips to and from airports from other trips."
   ]
  },
  {
   "cell_type": "markdown",
   "metadata": {},
   "source": [
    "![](dropoffs.png)"
   ]
  },
  {
   "cell_type": "markdown",
   "metadata": {},
   "source": [
    "![](pickups.png)"
   ]
  },
  {
   "cell_type": "markdown",
   "metadata": {},
   "source": [
    "Coordinates of the three major airports in New York are as follows:\n",
    "\n",
    "    1. Coordinates of Newark Airport = 40.6895° N, 74.1745° W\n",
    "\n",
    "    2. Coordinates of JFK Airport = 40.6413° N, 73.7781° W\n",
    "\n",
    "    3. Coordinates of La Guardia Airport = 40.7769° N, 73.8740° W"
   ]
  },
  {
   "cell_type": "code",
   "execution_count": 29,
   "metadata": {},
   "outputs": [
    {
     "data": {
      "application/vnd.jupyter.widget-view+json": {
       "model_id": "835616f7767848e3bb6a9ac3514dff90",
       "version_major": 2,
       "version_minor": 0
      },
      "text/plain": [
       "VBox()"
      ]
     },
     "metadata": {},
     "output_type": "display_data"
    },
    {
     "data": {
      "application/vnd.jupyter.widget-view+json": {
       "model_id": "",
       "version_major": 2,
       "version_minor": 0
      },
      "text/plain": [
       "FloatProgress(value=0.0, bar_style='info', description='Progress:', layout=Layout(height='25px', width='50%'),…"
      ]
     },
     "metadata": {},
     "output_type": "display_data"
    },
    {
     "name": "stdout",
     "output_type": "stream",
     "text": [
      "Number of trips with pickups at JFK: 827600\n",
      "Number of trips with drops at JFK: 421014"
     ]
    }
   ],
   "source": [
    "JFK = {\n",
    "    'min_lng': -73.8352, \n",
    "    'min_lat': 40.6195, \n",
    "    'max_lng': -73.7401,  \n",
    "    'max_lat': 40.6659\n",
    "}\n",
    "\n",
    "JFK_center=[40.6437, -73.7900]\n",
    "\n",
    "# Get all pickups from JFK\n",
    "train_data_JFK_pickup = train_data_filtered.filter(F.col(\"pickup_latitude\").between(JFK['min_lat'], JFK['max_lat']))\n",
    "train_data_JFK_pickup = train_data_JFK_pickup.filter(F.col(\"pickup_longitude\").between(JFK['min_lng'], JFK['max_lng']))\n",
    "\n",
    "print('Number of trips with pickups at JFK:', train_data_JFK_pickup.count())\n",
    "\n",
    "# Get all dropoffs at JFK\n",
    "train_data_JFK_drops = train_data_filtered.filter(F.col(\"dropoff_latitude\").between(JFK['min_lat'], JFK['max_lat']))\n",
    "train_data_JFK_drops = train_data_JFK_drops.filter(F.col(\"dropoff_longitude\").between(JFK['min_lng'], JFK['max_lng']))\n",
    "\n",
    "print('Number of trips with drops at JFK:', train_data_JFK_drops.count())"
   ]
  },
  {
   "cell_type": "code",
   "execution_count": 30,
   "metadata": {},
   "outputs": [
    {
     "data": {
      "application/vnd.jupyter.widget-view+json": {
       "model_id": "d28438293b884c3c85946d5506f7a3f7",
       "version_major": 2,
       "version_minor": 0
      },
      "text/plain": [
       "VBox()"
      ]
     },
     "metadata": {},
     "output_type": "display_data"
    },
    {
     "data": {
      "application/vnd.jupyter.widget-view+json": {
       "model_id": "",
       "version_major": 2,
       "version_minor": 0
      },
      "text/plain": [
       "FloatProgress(value=0.0, bar_style='info', description='Progress:', layout=Layout(height='25px', width='50%'),…"
      ]
     },
     "metadata": {},
     "output_type": "display_data"
    }
   ],
   "source": [
    "fig = plt.figure()\n",
    "axes = plt.gca()\n",
    "\n",
    "plt.xticks(rotation = 'vertical')\n",
    "plt.title('Pickup Fares')\n",
    "plt.xlabel('Fare')\n",
    "\n",
    "distplot(axes, train_data_JFK_pickup.select(F.col((\"fare_amount\"))), alpha = 0.6)\n",
    "plt.show()"
   ]
  },
  {
   "cell_type": "code",
   "execution_count": 31,
   "metadata": {},
   "outputs": [
    {
     "data": {
      "application/vnd.jupyter.widget-view+json": {
       "model_id": "",
       "version_major": 2,
       "version_minor": 0
      },
      "text/plain": [
       "FloatProgress(value=0.0, bar_style='info', description='Progress:', layout=Layout(height='25px', width='50%'),…"
      ]
     },
     "metadata": {},
     "output_type": "display_data"
    },
    {
     "data": {
      "image/png": "[encoded data removed]",
      "text/plain": [
       "<IPython.core.display.Image object>"
      ]
     },
     "metadata": {},
     "output_type": "display_data"
    }
   ],
   "source": [
    "%matplot plt"
   ]
  },
  {
   "cell_type": "code",
   "execution_count": 32,
   "metadata": {},
   "outputs": [
    {
     "data": {
      "application/vnd.jupyter.widget-view+json": {
       "model_id": "10a11811491544b4a68c3ff0da9f78d8",
       "version_major": 2,
       "version_minor": 0
      },
      "text/plain": [
       "VBox()"
      ]
     },
     "metadata": {},
     "output_type": "display_data"
    },
    {
     "data": {
      "application/vnd.jupyter.widget-view+json": {
       "model_id": "",
       "version_major": 2,
       "version_minor": 0
      },
      "text/plain": [
       "FloatProgress(value=0.0, bar_style='info', description='Progress:', layout=Layout(height='25px', width='50%'),…"
      ]
     },
     "metadata": {},
     "output_type": "display_data"
    }
   ],
   "source": [
    "fig = plt.figure()\n",
    "axes = plt.gca()\n",
    "\n",
    "plt.xticks(rotation = 'vertical')\n",
    "plt.title('Dropoff Fares')\n",
    "plt.xlabel('Fare')\n",
    "\n",
    "distplot(axes, train_data_JFK_drops.select(F.col((\"fare_amount\"))), alpha = 0.6)\n",
    "plt.show()"
   ]
  },
  {
   "cell_type": "code",
   "execution_count": 33,
   "metadata": {},
   "outputs": [
    {
     "data": {
      "application/vnd.jupyter.widget-view+json": {
       "model_id": "",
       "version_major": 2,
       "version_minor": 0
      },
      "text/plain": [
       "FloatProgress(value=0.0, bar_style='info', description='Progress:', layout=Layout(height='25px', width='50%'),…"
      ]
     },
     "metadata": {},
     "output_type": "display_data"
    },
    {
     "data": {
      "image/png": "[encoded data removed]",
      "text/plain": [
       "<IPython.core.display.Image object>"
      ]
     },
     "metadata": {},
     "output_type": "display_data"
    }
   ],
   "source": [
    "%matplot plt"
   ]
  },
  {
   "cell_type": "markdown",
   "metadata": {},
   "source": [
    "We can see that the pickup and dropoff fares for JFK are more in the 40-60 range which can suggest fixed pricing. To confirm, let's compare this with average fare for all trips"
   ]
  },
  {
   "cell_type": "code",
   "execution_count": 34,
   "metadata": {},
   "outputs": [
    {
     "data": {
      "application/vnd.jupyter.widget-view+json": {
       "model_id": "d75714a0d2a74aeba4f7fade837c6f47",
       "version_major": 2,
       "version_minor": 0
      },
      "text/plain": [
       "VBox()"
      ]
     },
     "metadata": {},
     "output_type": "display_data"
    },
    {
     "data": {
      "application/vnd.jupyter.widget-view+json": {
       "model_id": "",
       "version_major": 2,
       "version_minor": 0
      },
      "text/plain": [
       "FloatProgress(value=0.0, bar_style='info', description='Progress:', layout=Layout(height='25px', width='50%'),…"
      ]
     },
     "metadata": {},
     "output_type": "display_data"
    }
   ],
   "source": [
    "fig = plt.figure()\n",
    "axes = plt.gca()\n",
    "\n",
    "plt.xticks(rotation = 'vertical')\n",
    "plt.title('All Fares')\n",
    "plt.xlabel('Fare')\n",
    "\n",
    "distplot(axes, train_data_filtered.select(F.col((\"fare_amount\"))), alpha = 0.6)\n",
    "plt.show()"
   ]
  },
  {
   "cell_type": "code",
   "execution_count": 35,
   "metadata": {},
   "outputs": [
    {
     "data": {
      "application/vnd.jupyter.widget-view+json": {
       "model_id": "",
       "version_major": 2,
       "version_minor": 0
      },
      "text/plain": [
       "FloatProgress(value=0.0, bar_style='info', description='Progress:', layout=Layout(height='25px', width='50%'),…"
      ]
     },
     "metadata": {},
     "output_type": "display_data"
    },
    {
     "data": {
      "image/png": "[encoded data removed]",
      "text/plain": [
       "<IPython.core.display.Image object>"
      ]
     },
     "metadata": {},
     "output_type": "display_data"
    }
   ],
   "source": [
    "%matplot plt"
   ]
  },
  {
   "cell_type": "markdown",
   "metadata": {},
   "source": [
    "Thus, the average fare is much higher when trips are related to airports. So, differentiating these records by feature engineering will help us build a better model as it will be able to differentiate and recognize the difference in pattern between airport trips and non-airport trips. So, we create features that specify whether a record (trip) is to any of the 3 airports"
   ]
  },
  {
   "cell_type": "markdown",
   "metadata": {},
   "source": [
    "# Feature Engineering"
   ]
  },
  {
   "cell_type": "markdown",
   "metadata": {},
   "source": [
    "### Airport Data"
   ]
  },
  {
   "cell_type": "code",
   "execution_count": 12,
   "metadata": {},
   "outputs": [
    {
     "data": {
      "application/vnd.jupyter.widget-view+json": {
       "model_id": "d46853500fe54cf8a9b0da6b5612ef79",
       "version_major": 2,
       "version_minor": 0
      },
      "text/plain": [
       "VBox()"
      ]
     },
     "metadata": {},
     "output_type": "display_data"
    },
    {
     "data": {
      "application/vnd.jupyter.widget-view+json": {
       "model_id": "",
       "version_major": 2,
       "version_minor": 0
      },
      "text/plain": [
       "FloatProgress(value=0.0, bar_style='info', description='Progress:', layout=Layout(height='25px', width='50%'),…"
      ]
     },
     "metadata": {},
     "output_type": "display_data"
    }
   ],
   "source": [
    "nyc_airports = {\n",
    "    'JFK': {\n",
    "        'min_lng': -73.8352, \n",
    "        'min_lat': 40.6195,\n",
    "        'max_lng': -73.7401,  \n",
    "        'max_lat': 40.6659\n",
    "    },     \n",
    "    'EWR': {\n",
    "        'min_lng': -74.1925,\n",
    "        'min_lat': 40.6700, \n",
    "        'max_lng': -74.1531, \n",
    "        'max_lat': 40.7081\n",
    "    },\n",
    "    'LaGuardia': {\n",
    "        'min_lng': -73.8895, \n",
    "        'min_lat': 40.7664, \n",
    "        'max_lng': -73.8550, \n",
    "        'max_lat': 40.7931\n",
    "    }\n",
    "}"
   ]
  },
  {
   "cell_type": "code",
   "execution_count": 13,
   "metadata": {},
   "outputs": [
    {
     "data": {
      "application/vnd.jupyter.widget-view+json": {
       "model_id": "b8f88046297946d78e415ba76bc116be",
       "version_major": 2,
       "version_minor": 0
      },
      "text/plain": [
       "VBox()"
      ]
     },
     "metadata": {},
     "output_type": "display_data"
    },
    {
     "data": {
      "application/vnd.jupyter.widget-view+json": {
       "model_id": "",
       "version_major": 2,
       "version_minor": 0
      },
      "text/plain": [
       "FloatProgress(value=0.0, bar_style='info', description='Progress:', layout=Layout(height='25px', width='50%'),…"
      ]
     },
     "metadata": {},
     "output_type": "display_data"
    },
    {
     "name": "stdout",
     "output_type": "stream",
     "text": [
      "<function <lambda> at 0x7fc549d24b00>"
     ]
    }
   ],
   "source": [
    "from pyspark.sql.functions import udf\n",
    "from pyspark.sql.types import BooleanType\n",
    "\n",
    "def isTripRelatedToAirport(latitude,longitude,airport_name='JFK'):   \n",
    "    if ((latitude >= nyc_airports[airport_name]['min_lat']) & \n",
    "        (latitude <= nyc_airports[airport_name]['max_lat']) & \n",
    "        (longitude >= nyc_airports[airport_name]['min_lng']) & \n",
    "       (longitude <= nyc_airports[airport_name]['max_lng'])):\n",
    "        return True\n",
    "    else:\n",
    "        return False\n",
    "\n",
    "featureEngineeringUDF = udf(lambda x, y, z: isTripRelatedToAirport(x,y,z),BooleanType())\n",
    "spark.udf.register(\"featureEngineeringUDF\", featureEngineeringUDF)"
   ]
  },
  {
   "cell_type": "markdown",
   "metadata": {},
   "source": [
    "Now we create 6 new columns related to trips to the three airports JFK, EWR, and La Guardia respectively: one for pickup and one for dropoff from each airport"
   ]
  },
  {
   "cell_type": "code",
   "execution_count": 14,
   "metadata": {},
   "outputs": [
    {
     "data": {
      "application/vnd.jupyter.widget-view+json": {
       "model_id": "8e269cb461e34d358d6ad2a69d0bb69d",
       "version_major": 2,
       "version_minor": 0
      },
      "text/plain": [
       "VBox()"
      ]
     },
     "metadata": {},
     "output_type": "display_data"
    },
    {
     "data": {
      "application/vnd.jupyter.widget-view+json": {
       "model_id": "",
       "version_major": 2,
       "version_minor": 0
      },
      "text/plain": [
       "FloatProgress(value=0.0, bar_style='info', description='Progress:', layout=Layout(height='25px', width='50%'),…"
      ]
     },
     "metadata": {},
     "output_type": "display_data"
    },
    {
     "name": "stdout",
     "output_type": "stream",
     "text": [
      "+-------------------+-----------+-------------------+----------------+---------------+-----------------+----------------+---------------+-----------+----------+-----------+------------------+------------+-----------+-------------+--------------+\n",
      "|                key|fare_amount|    pickup_datetime|pickup_longitude|pickup_latitude|dropoff_longitude|dropoff_latitude|passenger_count|pickup_date|pickup_day|pickup_hour|pickup_day_of_week|pickup_month|pickup_year|is_pickup_JFK|is_dropoff_JFK|\n",
      "+-------------------+-----------+-------------------+----------------+---------------+-----------------+----------------+---------------+-----------+----------+-----------+------------------+------------+-----------+-------------+--------------+\n",
      "|2009-06-15 17:26:21|        4.5|2009-06-15 17:26:21|      -73.844311|      40.721319|        -73.84161|       40.712278|              1| 2009-06-15|        15|         17|                 2|           6|       2009|        false|         false|\n",
      "|2010-01-05 16:52:16|       16.9|2010-01-05 16:52:16|      -74.016048|      40.711303|       -73.979268|       40.782004|              1| 2010-01-05|         5|         16|                 3|           1|       2010|        false|         false|\n",
      "|2011-08-18 00:35:00|        5.7|2011-08-18 00:35:00|      -73.982738|       40.76127|       -73.991242|       40.750562|              2| 2011-08-18|        18|          0|                 5|           8|       2011|        false|         false|\n",
      "|2012-04-21 04:30:42|        7.7|2012-04-21 04:30:42|       -73.98713|      40.733143|       -73.991567|       40.758092|              1| 2012-04-21|        21|          4|                 7|           4|       2012|        false|         false|\n",
      "|2010-03-09 07:51:00|        5.3|2010-03-09 07:51:00|      -73.968095|      40.768008|       -73.956655|       40.783762|              1| 2010-03-09|         9|          7|                 3|           3|       2010|        false|         false|\n",
      "+-------------------+-----------+-------------------+----------------+---------------+-----------------+----------------+---------------+-----------+----------+-----------+------------------+------------+-----------+-------------+--------------+\n",
      "only showing top 5 rows"
     ]
    }
   ],
   "source": [
    "from pyspark.sql.functions import lit\n",
    "\n",
    "train_data_filtered = train_data_filtered.withColumn(\"is_pickup_JFK\", featureEngineeringUDF(F.col(\"pickup_latitude\"), \\\n",
    "                                                     F.col(\"pickup_longitude\"), lit(\"JFK\")))\n",
    "train_data_filtered = train_data_filtered.withColumn(\"is_dropoff_JFK\", featureEngineeringUDF(F.col(\"dropoff_latitude\"), \\\n",
    "                                                     F.col(\"dropoff_longitude\"), lit(\"JFK\")))\n",
    "\n",
    "train_data_filtered.show(5)"
   ]
  },
  {
   "cell_type": "code",
   "execution_count": 15,
   "metadata": {},
   "outputs": [
    {
     "data": {
      "application/vnd.jupyter.widget-view+json": {
       "model_id": "9fd8eeae8d2b4be8a4d8a85d7a762204",
       "version_major": 2,
       "version_minor": 0
      },
      "text/plain": [
       "VBox()"
      ]
     },
     "metadata": {},
     "output_type": "display_data"
    },
    {
     "data": {
      "application/vnd.jupyter.widget-view+json": {
       "model_id": "",
       "version_major": 2,
       "version_minor": 0
      },
      "text/plain": [
       "FloatProgress(value=0.0, bar_style='info', description='Progress:', layout=Layout(height='25px', width='50%'),…"
      ]
     },
     "metadata": {},
     "output_type": "display_data"
    },
    {
     "name": "stdout",
     "output_type": "stream",
     "text": [
      "+-------------------+-----------+-------------------+----------------+---------------+-----------------+----------------+---------------+-----------+----------+-----------+------------------+------------+-----------+-------------+--------------+-------------+--------------+\n",
      "|                key|fare_amount|    pickup_datetime|pickup_longitude|pickup_latitude|dropoff_longitude|dropoff_latitude|passenger_count|pickup_date|pickup_day|pickup_hour|pickup_day_of_week|pickup_month|pickup_year|is_pickup_JFK|is_dropoff_JFK|is_pickup_EWR|is_dropoff_EWR|\n",
      "+-------------------+-----------+-------------------+----------------+---------------+-----------------+----------------+---------------+-----------+----------+-----------+------------------+------------+-----------+-------------+--------------+-------------+--------------+\n",
      "|2009-06-15 17:26:21|        4.5|2009-06-15 17:26:21|      -73.844311|      40.721319|        -73.84161|       40.712278|              1| 2009-06-15|        15|         17|                 2|           6|       2009|        false|         false|        false|         false|\n",
      "|2010-01-05 16:52:16|       16.9|2010-01-05 16:52:16|      -74.016048|      40.711303|       -73.979268|       40.782004|              1| 2010-01-05|         5|         16|                 3|           1|       2010|        false|         false|        false|         false|\n",
      "|2011-08-18 00:35:00|        5.7|2011-08-18 00:35:00|      -73.982738|       40.76127|       -73.991242|       40.750562|              2| 2011-08-18|        18|          0|                 5|           8|       2011|        false|         false|        false|         false|\n",
      "|2012-04-21 04:30:42|        7.7|2012-04-21 04:30:42|       -73.98713|      40.733143|       -73.991567|       40.758092|              1| 2012-04-21|        21|          4|                 7|           4|       2012|        false|         false|        false|         false|\n",
      "|2010-03-09 07:51:00|        5.3|2010-03-09 07:51:00|      -73.968095|      40.768008|       -73.956655|       40.783762|              1| 2010-03-09|         9|          7|                 3|           3|       2010|        false|         false|        false|         false|\n",
      "+-------------------+-----------+-------------------+----------------+---------------+-----------------+----------------+---------------+-----------+----------+-----------+------------------+------------+-----------+-------------+--------------+-------------+--------------+\n",
      "only showing top 5 rows"
     ]
    }
   ],
   "source": [
    "train_data_filtered = train_data_filtered.withColumn(\"is_pickup_EWR\", featureEngineeringUDF(F.col(\"pickup_latitude\"), \\\n",
    "                                                     F.col(\"pickup_longitude\"), lit(\"EWR\")))\n",
    "train_data_filtered = train_data_filtered.withColumn(\"is_dropoff_EWR\", featureEngineeringUDF(F.col(\"dropoff_latitude\"), \\\n",
    "                                                     F.col(\"dropoff_longitude\"), lit(\"EWR\")))\n",
    "\n",
    "train_data_filtered.show(5)"
   ]
  },
  {
   "cell_type": "code",
   "execution_count": 16,
   "metadata": {},
   "outputs": [
    {
     "data": {
      "application/vnd.jupyter.widget-view+json": {
       "model_id": "57fc86e7250142d3873d2276c2de36c6",
       "version_major": 2,
       "version_minor": 0
      },
      "text/plain": [
       "VBox()"
      ]
     },
     "metadata": {},
     "output_type": "display_data"
    },
    {
     "data": {
      "application/vnd.jupyter.widget-view+json": {
       "model_id": "",
       "version_major": 2,
       "version_minor": 0
      },
      "text/plain": [
       "FloatProgress(value=0.0, bar_style='info', description='Progress:', layout=Layout(height='25px', width='50%'),…"
      ]
     },
     "metadata": {},
     "output_type": "display_data"
    },
    {
     "name": "stdout",
     "output_type": "stream",
     "text": [
      "+-------------------+-----------+-------------------+----------------+---------------+-----------------+----------------+---------------+-----------+----------+-----------+------------------+------------+-----------+-------------+--------------+-------------+--------------+-------------------+--------------------+\n",
      "|                key|fare_amount|    pickup_datetime|pickup_longitude|pickup_latitude|dropoff_longitude|dropoff_latitude|passenger_count|pickup_date|pickup_day|pickup_hour|pickup_day_of_week|pickup_month|pickup_year|is_pickup_JFK|is_dropoff_JFK|is_pickup_EWR|is_dropoff_EWR|is_pickup_LaGuardia|is_dropoff_LaGuardia|\n",
      "+-------------------+-----------+-------------------+----------------+---------------+-----------------+----------------+---------------+-----------+----------+-----------+------------------+------------+-----------+-------------+--------------+-------------+--------------+-------------------+--------------------+\n",
      "|2009-06-15 17:26:21|        4.5|2009-06-15 17:26:21|      -73.844311|      40.721319|        -73.84161|       40.712278|              1| 2009-06-15|        15|         17|                 2|           6|       2009|        false|         false|        false|         false|              false|               false|\n",
      "|2010-01-05 16:52:16|       16.9|2010-01-05 16:52:16|      -74.016048|      40.711303|       -73.979268|       40.782004|              1| 2010-01-05|         5|         16|                 3|           1|       2010|        false|         false|        false|         false|              false|               false|\n",
      "|2011-08-18 00:35:00|        5.7|2011-08-18 00:35:00|      -73.982738|       40.76127|       -73.991242|       40.750562|              2| 2011-08-18|        18|          0|                 5|           8|       2011|        false|         false|        false|         false|              false|               false|\n",
      "|2012-04-21 04:30:42|        7.7|2012-04-21 04:30:42|       -73.98713|      40.733143|       -73.991567|       40.758092|              1| 2012-04-21|        21|          4|                 7|           4|       2012|        false|         false|        false|         false|              false|               false|\n",
      "|2010-03-09 07:51:00|        5.3|2010-03-09 07:51:00|      -73.968095|      40.768008|       -73.956655|       40.783762|              1| 2010-03-09|         9|          7|                 3|           3|       2010|        false|         false|        false|         false|              false|               false|\n",
      "+-------------------+-----------+-------------------+----------------+---------------+-----------------+----------------+---------------+-----------+----------+-----------+------------------+------------+-----------+-------------+--------------+-------------+--------------+-------------------+--------------------+\n",
      "only showing top 5 rows"
     ]
    }
   ],
   "source": [
    "train_data_filtered = train_data_filtered.withColumn(\"is_pickup_LaGuardia\", featureEngineeringUDF(F.col(\"pickup_latitude\"), \\\n",
    "                                                     F.col(\"pickup_longitude\"), lit(\"LaGuardia\")))\n",
    "train_data_filtered = train_data_filtered.withColumn(\"is_dropoff_LaGuardia\", featureEngineeringUDF(F.col(\"dropoff_latitude\"), \\\n",
    "                                                     F.col(\"dropoff_longitude\"), lit(\"LaGuardia\")))\n",
    "\n",
    "train_data_filtered.show(5)"
   ]
  },
  {
   "cell_type": "markdown",
   "metadata": {},
   "source": [
    "### Haversine Formula"
   ]
  },
  {
   "cell_type": "markdown",
   "metadata": {},
   "source": [
    "Now, we can calculate the trip distance based on the trip fare using the Haversine distance"
   ]
  },
  {
   "cell_type": "code",
   "execution_count": 17,
   "metadata": {},
   "outputs": [
    {
     "data": {
      "application/vnd.jupyter.widget-view+json": {
       "model_id": "6faf6e549a0f4501a9d2da58cb8c6465",
       "version_major": 2,
       "version_minor": 0
      },
      "text/plain": [
       "VBox()"
      ]
     },
     "metadata": {},
     "output_type": "display_data"
    },
    {
     "data": {
      "application/vnd.jupyter.widget-view+json": {
       "model_id": "",
       "version_major": 2,
       "version_minor": 0
      },
      "text/plain": [
       "FloatProgress(value=0.0, bar_style='info', description='Progress:', layout=Layout(height='25px', width='50%'),…"
      ]
     },
     "metadata": {},
     "output_type": "display_data"
    },
    {
     "name": "stdout",
     "output_type": "stream",
     "text": [
      "<function <lambda> at 0x7fc549cfc9e0>"
     ]
    }
   ],
   "source": [
    "from pyspark.sql.types import DoubleType, ArrayType, DecimalType\n",
    "import math\n",
    "\n",
    "def trip_distance(lat1, lat2, lon1, lon2):\n",
    "    \"\"\"\n",
    "    Calculate trip distance based on Haversine formula\n",
    "    Args:\n",
    "        lat1: Latitude of first point\n",
    "        lat2: Latitude of second point\n",
    "        lon1: Longitude of first point\n",
    "        lon2: :ongitude of second point\n",
    "    Returns:\n",
    "        Distance between the two points in miles\n",
    "    \"\"\"\n",
    "    # pi / 180\n",
    "    p = 0.017453292519943295\n",
    "    a = 0.5 - math.cos((lat2 - lat1) * p)/2 + math.cos(lat1 * p) * math.cos(lat2 * p) * (1 - math.cos((lon2 - lon1) * p)) / 2\n",
    "    return 0.6213712 * 12742 * math.asin(math.sqrt(a))\n",
    "\n",
    "haversineUDF = udf(lambda a, b, c, d: trip_distance(a,b,c,d), DoubleType())\n",
    "spark.udf.register(\"haversineUDF\", haversineUDF)"
   ]
  },
  {
   "cell_type": "code",
   "execution_count": 18,
   "metadata": {},
   "outputs": [
    {
     "data": {
      "application/vnd.jupyter.widget-view+json": {
       "model_id": "6b08280ecf0f46a0834bf987e9913f88",
       "version_major": 2,
       "version_minor": 0
      },
      "text/plain": [
       "VBox()"
      ]
     },
     "metadata": {},
     "output_type": "display_data"
    },
    {
     "data": {
      "application/vnd.jupyter.widget-view+json": {
       "model_id": "",
       "version_major": 2,
       "version_minor": 0
      },
      "text/plain": [
       "FloatProgress(value=0.0, bar_style='info', description='Progress:', layout=Layout(height='25px', width='50%'),…"
      ]
     },
     "metadata": {},
     "output_type": "display_data"
    },
    {
     "name": "stdout",
     "output_type": "stream",
     "text": [
      "+-------------------+-----------+-------------------+----------------+---------------+-----------------+----------------+---------------+-----------+----------+-----------+------------------+------------+-----------+-------------+--------------+-------------+--------------+-------------------+--------------------+------------------+\n",
      "|                key|fare_amount|    pickup_datetime|pickup_longitude|pickup_latitude|dropoff_longitude|dropoff_latitude|passenger_count|pickup_date|pickup_day|pickup_hour|pickup_day_of_week|pickup_month|pickup_year|is_pickup_JFK|is_dropoff_JFK|is_pickup_EWR|is_dropoff_EWR|is_pickup_LaGuardia|is_dropoff_LaGuardia|     trip_distance|\n",
      "+-------------------+-----------+-------------------+----------------+---------------+-----------------+----------------+---------------+-----------+----------+-----------+------------------+------------+-----------+-------------+--------------+-------------+--------------+-------------------+--------------------+------------------+\n",
      "|2009-06-15 17:26:21|        4.5|2009-06-15 17:26:21|      -73.844311|      40.721319|        -73.84161|       40.712278|              1| 2009-06-15|        15|         17|                 2|           6|       2009|        false|         false|        false|         false|              false|               false|0.6404870231407276|\n",
      "|2010-01-05 16:52:16|       16.9|2010-01-05 16:52:16|      -74.016048|      40.711303|       -73.979268|       40.782004|              1| 2010-01-05|         5|         16|                 3|           1|       2010|        false|         false|        false|         false|              false|               false| 5.250669652366417|\n",
      "|2011-08-18 00:35:00|        5.7|2011-08-18 00:35:00|      -73.982738|       40.76127|       -73.991242|       40.750562|              2| 2011-08-18|        18|          0|                 5|           8|       2011|        false|         false|        false|         false|              false|               false|0.8634109565058572|\n",
      "|2012-04-21 04:30:42|        7.7|2012-04-21 04:30:42|       -73.98713|      40.733143|       -73.991567|       40.758092|              1| 2012-04-21|        21|          4|                 7|           4|       2012|        false|         false|        false|         false|              false|               false|1.7393859082192853|\n",
      "|2010-03-09 07:51:00|        5.3|2010-03-09 07:51:00|      -73.968095|      40.768008|       -73.956655|       40.783762|              1| 2010-03-09|         9|          7|                 3|           3|       2010|        false|         false|        false|         false|              false|               false|1.2422184522938338|\n",
      "+-------------------+-----------+-------------------+----------------+---------------+-----------------+----------------+---------------+-----------+----------+-----------+------------------+------------+-----------+-------------+--------------+-------------+--------------+-------------------+--------------------+------------------+\n",
      "only showing top 5 rows"
     ]
    }
   ],
   "source": [
    "train_data_filtered = train_data_filtered.withColumn(\"trip_distance\", haversineUDF(F.col(\"pickup_latitude\"), \\\n",
    "                                                     F.col(\"dropoff_latitude\"), F.col(\"pickup_longitude\"), \\\n",
    "                                                     F.col(\"dropoff_longitude\")))\n",
    "train_data_filtered.show(5)"
   ]
  },
  {
   "cell_type": "code",
   "execution_count": 43,
   "metadata": {},
   "outputs": [
    {
     "data": {
      "application/vnd.jupyter.widget-view+json": {
       "model_id": "79b58bc8f8d148ab83efbbb8425a1bfc",
       "version_major": 2,
       "version_minor": 0
      },
      "text/plain": [
       "VBox()"
      ]
     },
     "metadata": {},
     "output_type": "display_data"
    },
    {
     "data": {
      "application/vnd.jupyter.widget-view+json": {
       "model_id": "",
       "version_major": 2,
       "version_minor": 0
      },
      "text/plain": [
       "FloatProgress(value=0.0, bar_style='info', description='Progress:', layout=Layout(height='25px', width='50%'),…"
      ]
     },
     "metadata": {},
     "output_type": "display_data"
    }
   ],
   "source": [
    "fig = plt.figure()\n",
    "axes = plt.gca()\n",
    "\n",
    "ranges = [0,1,5,10,20,30,40,50,60,70,80,90,100]\n",
    "\n",
    "plt.xticks(ranges, ranges, rotation = 'vertical')\n",
    "plt.title('Distribution of Trip Distance')\n",
    "plt.xlabel('Distance (in miles)')\n",
    "\n",
    "distplot(axes, train_data_filtered.select(F.col((\"trip_distance\"))), alpha = 0.6, bins=ranges)\n",
    "plt.show()"
   ]
  },
  {
   "cell_type": "code",
   "execution_count": 44,
   "metadata": {},
   "outputs": [
    {
     "data": {
      "application/vnd.jupyter.widget-view+json": {
       "model_id": "",
       "version_major": 2,
       "version_minor": 0
      },
      "text/plain": [
       "FloatProgress(value=0.0, bar_style='info', description='Progress:', layout=Layout(height='25px', width='50%'),…"
      ]
     },
     "metadata": {},
     "output_type": "display_data"
    },
    {
     "data": {
      "image/png": "[encoded data removed]",
      "text/plain": [
       "<IPython.core.display.Image object>"
      ]
     },
     "metadata": {},
     "output_type": "display_data"
    }
   ],
   "source": [
    "%matplot plt"
   ]
  },
  {
   "cell_type": "markdown",
   "metadata": {},
   "source": [
    "As we can see, trips within 0 to 1 miles have the highest distribution"
   ]
  },
  {
   "cell_type": "markdown",
   "metadata": {},
   "source": [
    "Now, on plotting the trip fare vs trip distance for some part of the data, we can see that fare seems to be approximately \n",
    "fixed for trip distances > 50 miles. Assuming airports pickup or dropoff to have fixed prices, we can remove the \n",
    "trips related to airport pickup and dropoff and plot the distribution of Fare Amount vs Trip distribution again."
   ]
  },
  {
   "cell_type": "markdown",
   "metadata": {},
   "source": [
    "![](farevsdist.png)"
   ]
  },
  {
   "cell_type": "markdown",
   "metadata": {},
   "source": [
    "On plotting the same graph without airport trip data, we see that the cluster for distances > 50 miles still exists. Upon deeper research (visualizing the trips through a map) we can see that these longer trips are more distributed across Lower Manhattan. So, we decide to look through the training data for each of the boroughs that NY is made up of: Bronx, Brooklyn, Queens, Manhattan, Staten Island. For this, we create two new variables the represent the borough from which the pickup or dropoff happened"
   ]
  },
  {
   "cell_type": "markdown",
   "metadata": {},
   "source": [
    "![](farevsdistmod.png)"
   ]
  },
  {
   "cell_type": "markdown",
   "metadata": {},
   "source": [
    "### Borough-wise Analysis"
   ]
  },
  {
   "cell_type": "code",
   "execution_count": 19,
   "metadata": {},
   "outputs": [
    {
     "data": {
      "application/vnd.jupyter.widget-view+json": {
       "model_id": "3145d1c58f984ddba18b310f677cdda7",
       "version_major": 2,
       "version_minor": 0
      },
      "text/plain": [
       "VBox()"
      ]
     },
     "metadata": {},
     "output_type": "display_data"
    },
    {
     "data": {
      "application/vnd.jupyter.widget-view+json": {
       "model_id": "",
       "version_major": 2,
       "version_minor": 0
      },
      "text/plain": [
       "FloatProgress(value=0.0, bar_style='info', description='Progress:', layout=Layout(height='25px', width='50%'),…"
      ]
     },
     "metadata": {},
     "output_type": "display_data"
    }
   ],
   "source": [
    "nyc_boroughs = {\n",
    "    'manhattan': {\n",
    "        'min_lng': -74.0479,\n",
    "        'min_lat': 40.6829,\n",
    "        'max_lng': -73.9067,\n",
    "        'max_lat': 40.8820\n",
    "    },\n",
    "    'queens': {\n",
    "        'min_lng': -73.9630,\n",
    "        'min_lat': 40.5431,\n",
    "        'max_lng': -73.7004,\n",
    "        'max_lat': 40.8007\n",
    "    },\n",
    "    'brooklyn': {\n",
    "        'min_lng': -74.0421,\n",
    "        'min_lat': 40.5707,\n",
    "        'max_lng': -73.8334,\n",
    "        'max_lat': 40.7395\n",
    "    },\n",
    "    'bronx': {\n",
    "        'min_lng': -73.9339,\n",
    "        'min_lat': 40.7855,\n",
    "        'max_lng': -73.7654,\n",
    "        'max_lat': 40.9176\n",
    "    },\n",
    "    'staten_island': {\n",
    "        'min_lng': -74.2558,\n",
    "        'min_lat': 40.4960,\n",
    "        'max_lng': -74.0522,\n",
    "        'max_lat': 40.6490\n",
    "    }\n",
    "}"
   ]
  },
  {
   "cell_type": "code",
   "execution_count": 20,
   "metadata": {},
   "outputs": [
    {
     "data": {
      "application/vnd.jupyter.widget-view+json": {
       "model_id": "29a3f3c3a7ec462ba7955a8a01e15208",
       "version_major": 2,
       "version_minor": 0
      },
      "text/plain": [
       "VBox()"
      ]
     },
     "metadata": {},
     "output_type": "display_data"
    },
    {
     "data": {
      "application/vnd.jupyter.widget-view+json": {
       "model_id": "",
       "version_major": 2,
       "version_minor": 0
      },
      "text/plain": [
       "FloatProgress(value=0.0, bar_style='info', description='Progress:', layout=Layout(height='25px', width='50%'),…"
      ]
     },
     "metadata": {},
     "output_type": "display_data"
    },
    {
     "name": "stdout",
     "output_type": "stream",
     "text": [
      "<function <lambda> at 0x7fc549cb4c20>"
     ]
    }
   ],
   "source": [
    "def getBorough(lat,lng):\n",
    "    \"\"\"\n",
    "    Get the borough based on latitude and longitude\n",
    "    Args:\n",
    "        lat: Latitude of the place\n",
    "        lng: Longitude of the place\n",
    "    Returns:\n",
    "        A string representing the name of the borough\n",
    "    \"\"\"\n",
    "    locations = nyc_boroughs.keys()\n",
    "    for location in locations:\n",
    "        if (lat >= nyc_boroughs[location]['min_lat'] and \n",
    "            lat <= nyc_boroughs[location]['max_lat'] and \n",
    "            lng >= nyc_boroughs[location]['min_lng'] and \n",
    "            lng <= nyc_boroughs[location]['max_lng']):\n",
    "            return location\n",
    "    return 'others'\n",
    "\n",
    "boroughUDF = udf(lambda a, b: getBorough(a,b))\n",
    "spark.udf.register(\"boroughUDF\", boroughUDF)"
   ]
  },
  {
   "cell_type": "code",
   "execution_count": 21,
   "metadata": {},
   "outputs": [
    {
     "data": {
      "application/vnd.jupyter.widget-view+json": {
       "model_id": "056fbd1e064d486db2e0bdbc05e66065",
       "version_major": 2,
       "version_minor": 0
      },
      "text/plain": [
       "VBox()"
      ]
     },
     "metadata": {},
     "output_type": "display_data"
    },
    {
     "data": {
      "application/vnd.jupyter.widget-view+json": {
       "model_id": "",
       "version_major": 2,
       "version_minor": 0
      },
      "text/plain": [
       "FloatProgress(value=0.0, bar_style='info', description='Progress:', layout=Layout(height='25px', width='50%'),…"
      ]
     },
     "metadata": {},
     "output_type": "display_data"
    },
    {
     "name": "stdout",
     "output_type": "stream",
     "text": [
      "+-------------------+-----------+-------------------+----------------+---------------+-----------------+----------------+---------------+-----------+----------+-----------+------------------+------------+-----------+-------------+--------------+-------------+--------------+-------------------+--------------------+------------------+--------------+---------------+\n",
      "|                key|fare_amount|    pickup_datetime|pickup_longitude|pickup_latitude|dropoff_longitude|dropoff_latitude|passenger_count|pickup_date|pickup_day|pickup_hour|pickup_day_of_week|pickup_month|pickup_year|is_pickup_JFK|is_dropoff_JFK|is_pickup_EWR|is_dropoff_EWR|is_pickup_LaGuardia|is_dropoff_LaGuardia|     trip_distance|pickup_borough|dropoff_borough|\n",
      "+-------------------+-----------+-------------------+----------------+---------------+-----------------+----------------+---------------+-----------+----------+-----------+------------------+------------+-----------+-------------+--------------+-------------+--------------+-------------------+--------------------+------------------+--------------+---------------+\n",
      "|2009-06-15 17:26:21|        4.5|2009-06-15 17:26:21|      -73.844311|      40.721319|        -73.84161|       40.712278|              1| 2009-06-15|        15|         17|                 2|           6|       2009|        false|         false|        false|         false|              false|               false|0.6404870231407276|        queens|         queens|\n",
      "|2010-01-05 16:52:16|       16.9|2010-01-05 16:52:16|      -74.016048|      40.711303|       -73.979268|       40.782004|              1| 2010-01-05|         5|         16|                 3|           1|       2010|        false|         false|        false|         false|              false|               false| 5.250669652366417|     manhattan|      manhattan|\n",
      "|2011-08-18 00:35:00|        5.7|2011-08-18 00:35:00|      -73.982738|       40.76127|       -73.991242|       40.750562|              2| 2011-08-18|        18|          0|                 5|           8|       2011|        false|         false|        false|         false|              false|               false|0.8634109565058572|     manhattan|      manhattan|\n",
      "|2012-04-21 04:30:42|        7.7|2012-04-21 04:30:42|       -73.98713|      40.733143|       -73.991567|       40.758092|              1| 2012-04-21|        21|          4|                 7|           4|       2012|        false|         false|        false|         false|              false|               false|1.7393859082192853|     manhattan|      manhattan|\n",
      "|2010-03-09 07:51:00|        5.3|2010-03-09 07:51:00|      -73.968095|      40.768008|       -73.956655|       40.783762|              1| 2010-03-09|         9|          7|                 3|           3|       2010|        false|         false|        false|         false|              false|               false|1.2422184522938338|     manhattan|      manhattan|\n",
      "+-------------------+-----------+-------------------+----------------+---------------+-----------------+----------------+---------------+-----------+----------+-----------+------------------+------------+-----------+-------------+--------------+-------------+--------------+-------------------+--------------------+------------------+--------------+---------------+\n",
      "only showing top 5 rows"
     ]
    }
   ],
   "source": [
    "train_data_filtered = train_data_filtered.withColumn(\"pickup_borough\", boroughUDF(F.col(\"pickup_latitude\"), \\\n",
    "                                                     F.col(\"pickup_longitude\")))\n",
    "train_data_filtered = train_data_filtered.withColumn(\"dropoff_borough\", boroughUDF(F.col(\"dropoff_latitude\"), \\\n",
    "                                                     F.col(\"dropoff_longitude\")))\n",
    "\n",
    "train_data_filtered.show(5)"
   ]
  },
  {
   "cell_type": "markdown",
   "metadata": {},
   "source": [
    "Integer encode the categorical borough variables"
   ]
  },
  {
   "cell_type": "code",
   "execution_count": 24,
   "metadata": {},
   "outputs": [
    {
     "data": {
      "application/vnd.jupyter.widget-view+json": {
       "model_id": "10936a2c09c8416fb7e44424a2f172b3",
       "version_major": 2,
       "version_minor": 0
      },
      "text/plain": [
       "VBox()"
      ]
     },
     "metadata": {},
     "output_type": "display_data"
    },
    {
     "data": {
      "application/vnd.jupyter.widget-view+json": {
       "model_id": "",
       "version_major": 2,
       "version_minor": 0
      },
      "text/plain": [
       "FloatProgress(value=0.0, bar_style='info', description='Progress:', layout=Layout(height='25px', width='50%'),…"
      ]
     },
     "metadata": {},
     "output_type": "display_data"
    },
    {
     "name": "stdout",
     "output_type": "stream",
     "text": [
      "<function <lambda> at 0x7f2d4817ef80>"
     ]
    }
   ],
   "source": [
    "from pyspark.sql.types import IntegerType\n",
    "def getBoroughMapping(borough):\n",
    "    if borough == \"manhattan\":\n",
    "        return 1\n",
    "    elif borough == \"queens\":\n",
    "        return 2\n",
    "    elif borough == \"brooklyn\":\n",
    "        return 3\n",
    "    elif borough == \"bronx\":\n",
    "        return 4\n",
    "    elif borough == \"staten_island\":\n",
    "        return 5\n",
    "    else:\n",
    "        return 6\n",
    "\n",
    "bmapUDF = udf(lambda s: getBoroughMapping(s), IntegerType())\n",
    "spark.udf.register(\"bmapUDF\", bmapUDF)"
   ]
  },
  {
   "cell_type": "code",
   "execution_count": 25,
   "metadata": {},
   "outputs": [
    {
     "data": {
      "application/vnd.jupyter.widget-view+json": {
       "model_id": "2e9000dbb72c49ee8d562dcccb21201e",
       "version_major": 2,
       "version_minor": 0
      },
      "text/plain": [
       "VBox()"
      ]
     },
     "metadata": {},
     "output_type": "display_data"
    },
    {
     "data": {
      "application/vnd.jupyter.widget-view+json": {
       "model_id": "",
       "version_major": 2,
       "version_minor": 0
      },
      "text/plain": [
       "FloatProgress(value=0.0, bar_style='info', description='Progress:', layout=Layout(height='25px', width='50%'),…"
      ]
     },
     "metadata": {},
     "output_type": "display_data"
    }
   ],
   "source": [
    "fig = plt.figure()\n",
    "axes = plt.gca()\n",
    "\n",
    "plt.xticks(rotation = 'vertical')\n",
    "plt.title('Distribution of Pickups vs Boroughs')\n",
    "plt.xlabel('Boroughs')\n",
    "\n",
    "pickup_boroughs_numeric = train_data_filtered.withColumn(\"pickup_borough\", bmapUDF(F.col(\"pickup_borough\")))\n",
    "\n",
    "hist(axes, pickup_boroughs_numeric.select(F.col(\"pickup_borough\")))\n",
    "plt.show()"
   ]
  },
  {
   "cell_type": "code",
   "execution_count": 26,
   "metadata": {},
   "outputs": [
    {
     "data": {
      "application/vnd.jupyter.widget-view+json": {
       "model_id": "",
       "version_major": 2,
       "version_minor": 0
      },
      "text/plain": [
       "FloatProgress(value=0.0, bar_style='info', description='Progress:', layout=Layout(height='25px', width='50%'),…"
      ]
     },
     "metadata": {},
     "output_type": "display_data"
    },
    {
     "data": {
      "image/png": "[encoded data removed]",
      "text/plain": [
       "<IPython.core.display.Image object>"
      ]
     },
     "metadata": {},
     "output_type": "display_data"
    }
   ],
   "source": [
    "%matplot plt"
   ]
  },
  {
   "cell_type": "code",
   "execution_count": 50,
   "metadata": {},
   "outputs": [
    {
     "data": {
      "application/vnd.jupyter.widget-view+json": {
       "model_id": "a4f8702723834c65adb886d9b2b53a5b",
       "version_major": 2,
       "version_minor": 0
      },
      "text/plain": [
       "VBox()"
      ]
     },
     "metadata": {},
     "output_type": "display_data"
    },
    {
     "data": {
      "application/vnd.jupyter.widget-view+json": {
       "model_id": "",
       "version_major": 2,
       "version_minor": 0
      },
      "text/plain": [
       "FloatProgress(value=0.0, bar_style='info', description='Progress:', layout=Layout(height='25px', width='50%'),…"
      ]
     },
     "metadata": {},
     "output_type": "display_data"
    }
   ],
   "source": [
    "fig = plt.figure()\n",
    "axes = plt.gca()\n",
    "\n",
    "plt.xticks(rotation = 'vertical')\n",
    "plt.title('Distribution of Drops vs Boroughs')\n",
    "plt.xlabel('Boroughs')\n",
    "\n",
    "dropoff_boroughs_numeric = train_data_filtered.withColumn(\"dropoff_borough\", bmapUDF(F.col(\"dropoff_borough\")))\n",
    "\n",
    "hist(axes, dropoff_boroughs_numeric.select(F.col(\"dropoff_borough\")))\n",
    "plt.show()"
   ]
  },
  {
   "cell_type": "code",
   "execution_count": 52,
   "metadata": {},
   "outputs": [
    {
     "data": {
      "application/vnd.jupyter.widget-view+json": {
       "model_id": "",
       "version_major": 2,
       "version_minor": 0
      },
      "text/plain": [
       "FloatProgress(value=0.0, bar_style='info', description='Progress:', layout=Layout(height='25px', width='50%'),…"
      ]
     },
     "metadata": {},
     "output_type": "display_data"
    },
    {
     "data": {
      "image/png": "[encoded data removed]",
      "text/plain": [
       "<IPython.core.display.Image object>"
      ]
     },
     "metadata": {},
     "output_type": "display_data"
    }
   ],
   "source": [
    "%matplot plt"
   ]
  },
  {
   "cell_type": "code",
   "execution_count": null,
   "metadata": {},
   "outputs": [],
   "source": [
    "%matplot plt"
   ]
  },
  {
   "cell_type": "markdown",
   "metadata": {},
   "source": [
    "As hypothesised earlier, most of the pickups and dropoffs relate to Manhattan. Next, we try to visualize the average pickup and dropoff fares for these boroughs"
   ]
  },
  {
   "cell_type": "code",
   "execution_count": 25,
   "metadata": {},
   "outputs": [
    {
     "data": {
      "application/vnd.jupyter.widget-view+json": {
       "model_id": "3fd7cbaf6dc14b2089445c75e30c1af6",
       "version_major": 2,
       "version_minor": 0
      },
      "text/plain": [
       "VBox()"
      ]
     },
     "metadata": {},
     "output_type": "display_data"
    },
    {
     "data": {
      "application/vnd.jupyter.widget-view+json": {
       "model_id": "",
       "version_major": 2,
       "version_minor": 0
      },
      "text/plain": [
       "FloatProgress(value=0.0, bar_style='info', description='Progress:', layout=Layout(height='25px', width='50%'),…"
      ]
     },
     "metadata": {},
     "output_type": "display_data"
    }
   ],
   "source": [
    "fig = plt.figure()\n",
    "axes = plt.gca()\n",
    "plt.title(\"Distribution of Fare Amount Across Manhattan Borough\")\n",
    "\n",
    "pickup_borough_fares_manhattan = train_data_filtered.filter(F.col(\"pickup_borough\") == \"manhattan\").select(F.col(\"fare_amount\")).alias(\"pickup_rates\")\n",
    "dropoff_borough_fares_manhattan = train_data_filtered.filter(F.col(\"dropoff_borough\") == \"manhattan\").select(F.col(\"fare_amount\")).alias(\"dropoff_rates\")\n",
    "    \n",
    "distplot(axes, [pickup_borough_fares_manhattan.select(F.col((\"fare_amount\"))), dropoff_borough_fares_manhattan.select(F.col((\"fare_amount\")))],\\\n",
    "        alpha = 0.6, color = ['red', 'tan'])\n",
    "    \n",
    "axes.set_title(\"Fare Amount Distribution for Manhattan\")\n",
    "axes.legend()\n",
    "\n",
    "plt.show()"
   ]
  },
  {
   "cell_type": "code",
   "execution_count": 26,
   "metadata": {},
   "outputs": [
    {
     "data": {
      "application/vnd.jupyter.widget-view+json": {
       "model_id": "",
       "version_major": 2,
       "version_minor": 0
      },
      "text/plain": [
       "FloatProgress(value=0.0, bar_style='info', description='Progress:', layout=Layout(height='25px', width='50%'),…"
      ]
     },
     "metadata": {},
     "output_type": "display_data"
    },
    {
     "data": {
      "image/png": "[encoded data removed]",
      "text/plain": [
       "<IPython.core.display.Image object>"
      ]
     },
     "metadata": {},
     "output_type": "display_data"
    }
   ],
   "source": [
    "%matplot plt"
   ]
  },
  {
   "cell_type": "code",
   "execution_count": 27,
   "metadata": {},
   "outputs": [
    {
     "data": {
      "application/vnd.jupyter.widget-view+json": {
       "model_id": "b0c6984a965e493ea79f152acf1e478b",
       "version_major": 2,
       "version_minor": 0
      },
      "text/plain": [
       "VBox()"
      ]
     },
     "metadata": {},
     "output_type": "display_data"
    },
    {
     "data": {
      "application/vnd.jupyter.widget-view+json": {
       "model_id": "",
       "version_major": 2,
       "version_minor": 0
      },
      "text/plain": [
       "FloatProgress(value=0.0, bar_style='info', description='Progress:', layout=Layout(height='25px', width='50%'),…"
      ]
     },
     "metadata": {},
     "output_type": "display_data"
    }
   ],
   "source": [
    "fig = plt.figure()\n",
    "axes = plt.gca()\n",
    "plt.title(\"Distribution of Fare Amount Across Bronx Borough\")\n",
    "\n",
    "pickup_borough_fares_bronx = train_data_filtered.filter(F.col(\"pickup_borough\") == \"bronx\").select(F.col(\"fare_amount\"))\n",
    "dropoff_borough_fares_bronx = train_data_filtered.filter(F.col(\"dropoff_borough\") == \"bronx\").select(F.col(\"fare_amount\"))\n",
    "    \n",
    "distplot(axes, [pickup_borough_fares_bronx.select(F.col((\"fare_amount\"))), dropoff_borough_fares_bronx.select(F.col((\"fare_amount\")))],\\\n",
    "        alpha = 0.6, color = ['red', 'tan'])\n",
    "    \n",
    "axes.set_title(\"Fare Amount Distribution for Bronx\")\n",
    "axes.legend()\n",
    "\n",
    "plt.show()"
   ]
  },
  {
   "cell_type": "code",
   "execution_count": 28,
   "metadata": {},
   "outputs": [
    {
     "data": {
      "application/vnd.jupyter.widget-view+json": {
       "model_id": "",
       "version_major": 2,
       "version_minor": 0
      },
      "text/plain": [
       "FloatProgress(value=0.0, bar_style='info', description='Progress:', layout=Layout(height='25px', width='50%'),…"
      ]
     },
     "metadata": {},
     "output_type": "display_data"
    },
    {
     "data": {
      "image/png": "[encoded data removed]",
      "text/plain": [
       "<IPython.core.display.Image object>"
      ]
     },
     "metadata": {},
     "output_type": "display_data"
    }
   ],
   "source": [
    "%matplot plt"
   ]
  },
  {
   "cell_type": "code",
   "execution_count": 29,
   "metadata": {},
   "outputs": [
    {
     "data": {
      "application/vnd.jupyter.widget-view+json": {
       "model_id": "31a6a9098ecb42bc9cf17f71bbc0bb81",
       "version_major": 2,
       "version_minor": 0
      },
      "text/plain": [
       "VBox()"
      ]
     },
     "metadata": {},
     "output_type": "display_data"
    },
    {
     "data": {
      "application/vnd.jupyter.widget-view+json": {
       "model_id": "",
       "version_major": 2,
       "version_minor": 0
      },
      "text/plain": [
       "FloatProgress(value=0.0, bar_style='info', description='Progress:', layout=Layout(height='25px', width='50%'),…"
      ]
     },
     "metadata": {},
     "output_type": "display_data"
    }
   ],
   "source": [
    "fig = plt.figure()\n",
    "axes = plt.gca()\n",
    "plt.title(\"Distribution of Fare Amount Across Queens\")\n",
    "\n",
    "pickup_borough_fares_queens = train_data_filtered.filter(F.col(\"pickup_borough\") == \"queens\").select(F.col(\"fare_amount\"))\n",
    "dropoff_borough_fares_queens = train_data_filtered.filter(F.col(\"dropoff_borough\") == \"queens\").select(F.col(\"fare_amount\"))\n",
    "    \n",
    "distplot(axes, [pickup_borough_fares_queens.select(F.col((\"fare_amount\"))), dropoff_borough_fares_queens.select(F.col((\"fare_amount\")))],\\\n",
    "        alpha = 0.6, color = ['red', 'tan'])\n",
    "    \n",
    "axes.set_title(\"Fare Amount Distribution for Queens\")\n",
    "axes.legend()\n",
    "\n",
    "plt.show()"
   ]
  },
  {
   "cell_type": "code",
   "execution_count": 30,
   "metadata": {},
   "outputs": [
    {
     "data": {
      "application/vnd.jupyter.widget-view+json": {
       "model_id": "",
       "version_major": 2,
       "version_minor": 0
      },
      "text/plain": [
       "FloatProgress(value=0.0, bar_style='info', description='Progress:', layout=Layout(height='25px', width='50%'),…"
      ]
     },
     "metadata": {},
     "output_type": "display_data"
    },
    {
     "data": {
      "image/png": "[encoded data removed]",
      "text/plain": [
       "<IPython.core.display.Image object>"
      ]
     },
     "metadata": {},
     "output_type": "display_data"
    }
   ],
   "source": [
    "%matplot plt"
   ]
  },
  {
   "cell_type": "code",
   "execution_count": 31,
   "metadata": {},
   "outputs": [
    {
     "data": {
      "application/vnd.jupyter.widget-view+json": {
       "model_id": "3c27cd4fdc1c43678ac0f93ccee7d597",
       "version_major": 2,
       "version_minor": 0
      },
      "text/plain": [
       "VBox()"
      ]
     },
     "metadata": {},
     "output_type": "display_data"
    },
    {
     "data": {
      "application/vnd.jupyter.widget-view+json": {
       "model_id": "",
       "version_major": 2,
       "version_minor": 0
      },
      "text/plain": [
       "FloatProgress(value=0.0, bar_style='info', description='Progress:', layout=Layout(height='25px', width='50%'),…"
      ]
     },
     "metadata": {},
     "output_type": "display_data"
    }
   ],
   "source": [
    "fig = plt.figure()\n",
    "axes = plt.gca()\n",
    "plt.title(\"Distribution of Fare Amount Across Brooklyn\")\n",
    "\n",
    "pickup_borough_fares_brooklyn = train_data_filtered.filter(F.col(\"pickup_borough\") == \"brooklyn\").select(F.col(\"fare_amount\"))\n",
    "dropoff_borough_fares_brooklyn = train_data_filtered.filter(F.col(\"dropoff_borough\") == \"brooklyn\").select(F.col(\"fare_amount\"))\n",
    "    \n",
    "distplot(axes, [pickup_borough_fares_brooklyn.select(F.col((\"fare_amount\"))), dropoff_borough_fares_brooklyn.select(F.col((\"fare_amount\")))],\\\n",
    "        alpha = 0.6, color = ['red', 'tan'])\n",
    "    \n",
    "axes.set_title(\"Fare Amount Distribution for Brooklyn\")\n",
    "axes.legend()\n",
    "\n",
    "plt.show()"
   ]
  },
  {
   "cell_type": "code",
   "execution_count": 32,
   "metadata": {},
   "outputs": [
    {
     "data": {
      "application/vnd.jupyter.widget-view+json": {
       "model_id": "",
       "version_major": 2,
       "version_minor": 0
      },
      "text/plain": [
       "FloatProgress(value=0.0, bar_style='info', description='Progress:', layout=Layout(height='25px', width='50%'),…"
      ]
     },
     "metadata": {},
     "output_type": "display_data"
    },
    {
     "data": {
      "image/png": "[encoded data removed]",
      "text/plain": [
       "<IPython.core.display.Image object>"
      ]
     },
     "metadata": {},
     "output_type": "display_data"
    }
   ],
   "source": [
    "%matplot plt"
   ]
  },
  {
   "cell_type": "code",
   "execution_count": 33,
   "metadata": {},
   "outputs": [
    {
     "data": {
      "application/vnd.jupyter.widget-view+json": {
       "model_id": "cc25075ebd714b66b8aff7c3fb48dc2c",
       "version_major": 2,
       "version_minor": 0
      },
      "text/plain": [
       "VBox()"
      ]
     },
     "metadata": {},
     "output_type": "display_data"
    },
    {
     "data": {
      "application/vnd.jupyter.widget-view+json": {
       "model_id": "",
       "version_major": 2,
       "version_minor": 0
      },
      "text/plain": [
       "FloatProgress(value=0.0, bar_style='info', description='Progress:', layout=Layout(height='25px', width='50%'),…"
      ]
     },
     "metadata": {},
     "output_type": "display_data"
    }
   ],
   "source": [
    "fig = plt.figure()\n",
    "axes = plt.gca()\n",
    "plt.title(\"Distribution of Fare Amount Across Staten Island\")\n",
    "\n",
    "pickup_borough_fares_staten = train_data_filtered.filter(F.col(\"pickup_borough\") == \"staten_island\").select(F.col(\"fare_amount\"))\n",
    "dropoff_borough_fares_staten = train_data_filtered.filter(F.col(\"dropoff_borough\") == \"staten_island\").select(F.col(\"fare_amount\"))\n",
    "    \n",
    "distplot(axes, [pickup_borough_fares_staten.select(F.col((\"fare_amount\"))), dropoff_borough_fares_staten.select(F.col((\"fare_amount\")))],\\\n",
    "        alpha = 0.6, color = ['red', 'tan'])\n",
    "    \n",
    "axes.set_title(\"Fare Amount Distribution for Staten Island\")\n",
    "axes.legend()\n",
    "\n",
    "plt.show()"
   ]
  },
  {
   "cell_type": "code",
   "execution_count": 34,
   "metadata": {},
   "outputs": [
    {
     "data": {
      "application/vnd.jupyter.widget-view+json": {
       "model_id": "",
       "version_major": 2,
       "version_minor": 0
      },
      "text/plain": [
       "FloatProgress(value=0.0, bar_style='info', description='Progress:', layout=Layout(height='25px', width='50%'),…"
      ]
     },
     "metadata": {},
     "output_type": "display_data"
    },
    {
     "data": {
      "image/png": "[encoded data removed]",
      "text/plain": [
       "<IPython.core.display.Image object>"
      ]
     },
     "metadata": {},
     "output_type": "display_data"
    }
   ],
   "source": [
    "%matplot plt"
   ]
  },
  {
   "cell_type": "markdown",
   "metadata": {},
   "source": [
    "We conclude the following from the above graphs:\n",
    "\n",
    "1. Pickup and dropoff fare amount are almost similarly distributed for Manhattan.\n",
    "2. Dropoff fare is higher for Bronx, Brooklyn and Staten Island meaning people come from far out into the Bronx, Brooklyn and Staten Island\n",
    "3. For Queens, both averages are higher meaning people usually take longer trips in general"
   ]
  },
  {
   "cell_type": "markdown",
   "metadata": {},
   "source": [
    "Next, we split the Manhattan borough also into two: upper and lower Manhattan and for that we introduce two new features"
   ]
  },
  {
   "cell_type": "markdown",
   "metadata": {},
   "source": [
    "### Splitting Manhattan"
   ]
  },
  {
   "cell_type": "code",
   "execution_count": 22,
   "metadata": {},
   "outputs": [
    {
     "data": {
      "application/vnd.jupyter.widget-view+json": {
       "model_id": "498d627722674cbd90d6f097259d31f3",
       "version_major": 2,
       "version_minor": 0
      },
      "text/plain": [
       "VBox()"
      ]
     },
     "metadata": {},
     "output_type": "display_data"
    },
    {
     "data": {
      "application/vnd.jupyter.widget-view+json": {
       "model_id": "",
       "version_major": 2,
       "version_minor": 0
      },
      "text/plain": [
       "FloatProgress(value=0.0, bar_style='info', description='Progress:', layout=Layout(height='25px', width='50%'),…"
      ]
     },
     "metadata": {},
     "output_type": "display_data"
    },
    {
     "name": "stdout",
     "output_type": "stream",
     "text": [
      "<function <lambda> at 0x7fc549cdc200>"
     ]
    }
   ],
   "source": [
    "lower_manhattan_boundary={\n",
    "    'min_lng': -74.0194,\n",
    "    'min_lat': 40.6997,           \n",
    "    'max_lng': -73.9716,        \n",
    "    'max_lat': 40.7427\n",
    "}\n",
    "\n",
    "def isLowerManhattan(lat,lng):\n",
    "    \"\"\"\n",
    "    Check if lat and lng corresponds to lower manhattan\n",
    "    Args:\n",
    "        lat: Latitude\n",
    "        lng: Longitude\n",
    "    Returns:\n",
    "        0 or 1 indicating whether the pick up or drop off location is in lower manhattan\n",
    "    \"\"\"\n",
    "    if (lat >= lower_manhattan_boundary['min_lat'] and \n",
    "        lat <= lower_manhattan_boundary['max_lat'] and \n",
    "        lng >= lower_manhattan_boundary['min_lng'] and \n",
    "        lng <= lower_manhattan_boundary['max_lng']):\n",
    "        return True\n",
    "    else:\n",
    "        return False\n",
    "\n",
    "manhattanUDF = udf(lambda x,y : isLowerManhattan(x, y),BooleanType())\n",
    "spark.udf.register(\"manhattanUDF\", manhattanUDF)"
   ]
  },
  {
   "cell_type": "code",
   "execution_count": 23,
   "metadata": {},
   "outputs": [
    {
     "data": {
      "application/vnd.jupyter.widget-view+json": {
       "model_id": "c3379b4e73c54add99a9992a9055be59",
       "version_major": 2,
       "version_minor": 0
      },
      "text/plain": [
       "VBox()"
      ]
     },
     "metadata": {},
     "output_type": "display_data"
    },
    {
     "data": {
      "application/vnd.jupyter.widget-view+json": {
       "model_id": "",
       "version_major": 2,
       "version_minor": 0
      },
      "text/plain": [
       "FloatProgress(value=0.0, bar_style='info', description='Progress:', layout=Layout(height='25px', width='50%'),…"
      ]
     },
     "metadata": {},
     "output_type": "display_data"
    },
    {
     "name": "stdout",
     "output_type": "stream",
     "text": [
      "+-------------------+-----------+-------------------+----------------+---------------+-----------------+----------------+---------------+-----------+----------+-----------+------------------+------------+-----------+-------------+--------------+-------------+--------------+-------------------+--------------------+------------------+--------------+---------------+----------------------------+--------------------------+\n",
      "|                key|fare_amount|    pickup_datetime|pickup_longitude|pickup_latitude|dropoff_longitude|dropoff_latitude|passenger_count|pickup_date|pickup_day|pickup_hour|pickup_day_of_week|pickup_month|pickup_year|is_pickup_JFK|is_dropoff_JFK|is_pickup_EWR|is_dropoff_EWR|is_pickup_LaGuardia|is_dropoff_LaGuardia|     trip_distance|pickup_borough|dropoff_borough|is_pickup_in_lower_manhattan|is_drop_in_lower_manhattan|\n",
      "+-------------------+-----------+-------------------+----------------+---------------+-----------------+----------------+---------------+-----------+----------+-----------+------------------+------------+-----------+-------------+--------------+-------------+--------------+-------------------+--------------------+------------------+--------------+---------------+----------------------------+--------------------------+\n",
      "|2009-06-15 17:26:21|        4.5|2009-06-15 17:26:21|      -73.844311|      40.721319|        -73.84161|       40.712278|              1| 2009-06-15|        15|         17|                 2|           6|       2009|        false|         false|        false|         false|              false|               false|0.6404870231407276|        queens|         queens|                       false|                     false|\n",
      "|2010-01-05 16:52:16|       16.9|2010-01-05 16:52:16|      -74.016048|      40.711303|       -73.979268|       40.782004|              1| 2010-01-05|         5|         16|                 3|           1|       2010|        false|         false|        false|         false|              false|               false| 5.250669652366417|     manhattan|      manhattan|                        true|                     false|\n",
      "|2011-08-18 00:35:00|        5.7|2011-08-18 00:35:00|      -73.982738|       40.76127|       -73.991242|       40.750562|              2| 2011-08-18|        18|          0|                 5|           8|       2011|        false|         false|        false|         false|              false|               false|0.8634109565058572|     manhattan|      manhattan|                       false|                     false|\n",
      "|2012-04-21 04:30:42|        7.7|2012-04-21 04:30:42|       -73.98713|      40.733143|       -73.991567|       40.758092|              1| 2012-04-21|        21|          4|                 7|           4|       2012|        false|         false|        false|         false|              false|               false|1.7393859082192853|     manhattan|      manhattan|                        true|                     false|\n",
      "|2010-03-09 07:51:00|        5.3|2010-03-09 07:51:00|      -73.968095|      40.768008|       -73.956655|       40.783762|              1| 2010-03-09|         9|          7|                 3|           3|       2010|        false|         false|        false|         false|              false|               false|1.2422184522938338|     manhattan|      manhattan|                       false|                     false|\n",
      "+-------------------+-----------+-------------------+----------------+---------------+-----------------+----------------+---------------+-----------+----------+-----------+------------------+------------+-----------+-------------+--------------+-------------+--------------+-------------------+--------------------+------------------+--------------+---------------+----------------------------+--------------------------+\n",
      "only showing top 5 rows"
     ]
    }
   ],
   "source": [
    "train_data_filtered = train_data_filtered.withColumn(\"is_pickup_in_lower_manhattan\", manhattanUDF(F.col(\"pickup_latitude\"),\\\n",
    "                                                                                                  F.col(\"pickup_longitude\")))\n",
    "train_data_filtered = train_data_filtered.withColumn(\"is_drop_in_lower_manhattan\", manhattanUDF(F.col(\"dropoff_latitude\"),\\\n",
    "                                                                                                  F.col(\"dropoff_longitude\")))\n",
    "\n",
    "train_data_filtered.show(5)"
   ]
  },
  {
   "cell_type": "code",
   "execution_count": 39,
   "metadata": {},
   "outputs": [
    {
     "data": {
      "application/vnd.jupyter.widget-view+json": {
       "model_id": "c090d876b8c242d2ba57d4e46763ca09",
       "version_major": 2,
       "version_minor": 0
      },
      "text/plain": [
       "VBox()"
      ]
     },
     "metadata": {},
     "output_type": "display_data"
    },
    {
     "data": {
      "application/vnd.jupyter.widget-view+json": {
       "model_id": "",
       "version_major": 2,
       "version_minor": 0
      },
      "text/plain": [
       "FloatProgress(value=0.0, bar_style='info', description='Progress:', layout=Layout(height='25px', width='50%'),…"
      ]
     },
     "metadata": {},
     "output_type": "display_data"
    }
   ],
   "source": [
    "fig = plt.figure()\n",
    "axes = plt.gca()\n",
    "plt.title(\"Distribution of Fare Amount - Lower Manhattan vs Other Regions in Manhattan\")\n",
    "\n",
    "lower_manhattan_pickup = train_data_filtered.filter(F.col(\"is_pickup_in_lower_manhattan\") == True).select(F.col(\"fare_amount\"))\n",
    "other_manhattan_pickup = train_data_filtered.filter(F.col(\"is_pickup_in_lower_manhattan\") == False).select(F.col(\"fare_amount\"))\n",
    "    \n",
    "distplot(axes, [lower_manhattan_pickup.select(F.col((\"fare_amount\"))), other_manhattan_pickup.select(F.col((\"fare_amount\")))],\\\n",
    "        alpha = 0.6, color = ['red', 'tan'])\n",
    "    \n",
    "axes.set_title(\"Fare Amount Distribution for Manhattan - Lower vs Other Regions\")\n",
    "axes.legend()\n",
    "\n",
    "plt.show()"
   ]
  },
  {
   "cell_type": "code",
   "execution_count": 40,
   "metadata": {},
   "outputs": [
    {
     "data": {
      "application/vnd.jupyter.widget-view+json": {
       "model_id": "",
       "version_major": 2,
       "version_minor": 0
      },
      "text/plain": [
       "FloatProgress(value=0.0, bar_style='info', description='Progress:', layout=Layout(height='25px', width='50%'),…"
      ]
     },
     "metadata": {},
     "output_type": "display_data"
    },
    {
     "data": {
      "image/png": "[encoded data removed]",
      "text/plain": [
       "<IPython.core.display.Image object>"
      ]
     },
     "metadata": {},
     "output_type": "display_data"
    }
   ],
   "source": [
    "%matplot plt"
   ]
  },
  {
   "cell_type": "markdown",
   "metadata": {},
   "source": [
    "We can see that for Lower Manhattan and Rest of Manhattan, the fare amounts are similar"
   ]
  },
  {
   "cell_type": "markdown",
   "metadata": {},
   "source": [
    "# Time-based Analysis"
   ]
  },
  {
   "cell_type": "code",
   "execution_count": 53,
   "metadata": {
    "scrolled": true
   },
   "outputs": [
    {
     "data": {
      "application/vnd.jupyter.widget-view+json": {
       "model_id": "c0980c6dae7942508c6fe276a6d4555b",
       "version_major": 2,
       "version_minor": 0
      },
      "text/plain": [
       "VBox()"
      ]
     },
     "metadata": {},
     "output_type": "display_data"
    },
    {
     "data": {
      "application/vnd.jupyter.widget-view+json": {
       "model_id": "",
       "version_major": 2,
       "version_minor": 0
      },
      "text/plain": [
       "FloatProgress(value=0.0, bar_style='info', description='Progress:', layout=Layout(height='25px', width='50%'),…"
      ]
     },
     "metadata": {},
     "output_type": "display_data"
    },
    {
     "name": "stdout",
     "output_type": "stream",
     "text": [
      "   pickup_year    count\n",
      "6         2009  8432908\n",
      "0         2010  8168683\n",
      "1         2011  8504583\n",
      "5         2012  8629726\n",
      "2         2013  8476306\n",
      "4         2014  8068283\n",
      "3         2015  3777269"
     ]
    }
   ],
   "source": [
    "trips_by_year = train_data_filtered.groupBy(\"pickup_year\").count().toPandas()\n",
    "trips_by_year = trips_by_year.sort_values(by = \"pickup_year\")\n",
    "trips_by_year"
   ]
  },
  {
   "cell_type": "code",
   "execution_count": 55,
   "metadata": {},
   "outputs": [
    {
     "data": {
      "application/vnd.jupyter.widget-view+json": {
       "model_id": "b59f4d9bf1af49a8b9422098f4db78a8",
       "version_major": 2,
       "version_minor": 0
      },
      "text/plain": [
       "VBox()"
      ]
     },
     "metadata": {},
     "output_type": "display_data"
    },
    {
     "data": {
      "application/vnd.jupyter.widget-view+json": {
       "model_id": "",
       "version_major": 2,
       "version_minor": 0
      },
      "text/plain": [
       "FloatProgress(value=0.0, bar_style='info', description='Progress:', layout=Layout(height='25px', width='50%'),…"
      ]
     },
     "metadata": {},
     "output_type": "display_data"
    },
    {
     "name": "stdout",
     "output_type": "stream",
     "text": [
      "Text(0.5, 1.0, 'Trips per year')"
     ]
    }
   ],
   "source": [
    "fig = plt.figure()\n",
    "\n",
    "sns.barplot(x = \"pickup_year\",\n",
    "            y = \"count\",\n",
    "            data = trips_by_year).set_title(\"Trips per year\")"
   ]
  },
  {
   "cell_type": "code",
   "execution_count": 56,
   "metadata": {},
   "outputs": [
    {
     "data": {
      "application/vnd.jupyter.widget-view+json": {
       "model_id": "",
       "version_major": 2,
       "version_minor": 0
      },
      "text/plain": [
       "FloatProgress(value=0.0, bar_style='info', description='Progress:', layout=Layout(height='25px', width='50%'),…"
      ]
     },
     "metadata": {},
     "output_type": "display_data"
    },
    {
     "data": {
      "image/png": "[encoded data removed]",
      "text/plain": [
       "<IPython.core.display.Image object>"
      ]
     },
     "metadata": {},
     "output_type": "display_data"
    }
   ],
   "source": [
    "%matplot plt"
   ]
  },
  {
   "cell_type": "code",
   "execution_count": 57,
   "metadata": {},
   "outputs": [
    {
     "data": {
      "application/vnd.jupyter.widget-view+json": {
       "model_id": "ad635868893d456ca4ef6a28d922d177",
       "version_major": 2,
       "version_minor": 0
      },
      "text/plain": [
       "VBox()"
      ]
     },
     "metadata": {},
     "output_type": "display_data"
    },
    {
     "data": {
      "application/vnd.jupyter.widget-view+json": {
       "model_id": "",
       "version_major": 2,
       "version_minor": 0
      },
      "text/plain": [
       "FloatProgress(value=0.0, bar_style='info', description='Progress:', layout=Layout(height='25px', width='50%'),…"
      ]
     },
     "metadata": {},
     "output_type": "display_data"
    },
    {
     "name": "stdout",
     "output_type": "stream",
     "text": [
      "    pickup_month    count\n",
      "1              1  4817304\n",
      "8              2  4545047\n",
      "3              3  5069527\n",
      "4              4  4984445\n",
      "7              5  5082105\n",
      "2              6  4862991\n",
      "9              7  4098227\n",
      "5              8  3856419\n",
      "10             9  4118322\n",
      "11            10  4368670\n",
      "6             11  4107319\n",
      "0             12  4147382"
     ]
    }
   ],
   "source": [
    "trips_by_month = train_data_filtered.groupBy(\"pickup_month\").count().toPandas()\n",
    "trips_by_month = trips_by_month.sort_values(by = \"pickup_month\")\n",
    "trips_by_month"
   ]
  },
  {
   "cell_type": "code",
   "execution_count": 60,
   "metadata": {},
   "outputs": [
    {
     "data": {
      "application/vnd.jupyter.widget-view+json": {
       "model_id": "e6627a9951f1484ab0fd10c788d3c810",
       "version_major": 2,
       "version_minor": 0
      },
      "text/plain": [
       "VBox()"
      ]
     },
     "metadata": {},
     "output_type": "display_data"
    },
    {
     "data": {
      "application/vnd.jupyter.widget-view+json": {
       "model_id": "",
       "version_major": 2,
       "version_minor": 0
      },
      "text/plain": [
       "FloatProgress(value=0.0, bar_style='info', description='Progress:', layout=Layout(height='25px', width='50%'),…"
      ]
     },
     "metadata": {},
     "output_type": "display_data"
    },
    {
     "name": "stdout",
     "output_type": "stream",
     "text": [
      "Text(0.5, 1.0, 'Trips per month')"
     ]
    }
   ],
   "source": [
    "fig = plt.figure()\n",
    "\n",
    "sns.barplot(x = \"pickup_month\",\n",
    "            y = \"count\",\n",
    "            data = trips_by_month).set_title(\"Trips per month\")"
   ]
  },
  {
   "cell_type": "code",
   "execution_count": 61,
   "metadata": {},
   "outputs": [
    {
     "data": {
      "application/vnd.jupyter.widget-view+json": {
       "model_id": "",
       "version_major": 2,
       "version_minor": 0
      },
      "text/plain": [
       "FloatProgress(value=0.0, bar_style='info', description='Progress:', layout=Layout(height='25px', width='50%'),…"
      ]
     },
     "metadata": {},
     "output_type": "display_data"
    },
    {
     "data": {
      "image/png": "[encoded data removed]",
      "text/plain": [
       "<IPython.core.display.Image object>"
      ]
     },
     "metadata": {},
     "output_type": "display_data"
    }
   ],
   "source": [
    "%matplot plt"
   ]
  },
  {
   "cell_type": "code",
   "execution_count": 67,
   "metadata": {},
   "outputs": [
    {
     "data": {
      "application/vnd.jupyter.widget-view+json": {
       "model_id": "472df2e1671d40199477e59ef15d985c",
       "version_major": 2,
       "version_minor": 0
      },
      "text/plain": [
       "VBox()"
      ]
     },
     "metadata": {},
     "output_type": "display_data"
    },
    {
     "data": {
      "application/vnd.jupyter.widget-view+json": {
       "model_id": "",
       "version_major": 2,
       "version_minor": 0
      },
      "text/plain": [
       "FloatProgress(value=0.0, bar_style='info', description='Progress:', layout=Layout(height='25px', width='50%'),…"
      ]
     },
     "metadata": {},
     "output_type": "display_data"
    },
    {
     "name": "stdout",
     "output_type": "stream",
     "text": [
      "   pickup_day_of_week    count\n",
      "0                   1  7090814\n",
      "5                   2  6929640\n",
      "2                   3  7573406\n",
      "3                   4  7842666\n",
      "4                   5  8099058\n",
      "1                   6  8317144\n",
      "6                   7  8205030"
     ]
    }
   ],
   "source": [
    "trips_by_day = train_data_filtered.groupBy(\"pickup_day_of_week\").count().toPandas()\n",
    "trips_by_day = trips_by_day.sort_values(by = \"pickup_day_of_week\")\n",
    "trips_by_day"
   ]
  },
  {
   "cell_type": "code",
   "execution_count": 68,
   "metadata": {},
   "outputs": [
    {
     "data": {
      "application/vnd.jupyter.widget-view+json": {
       "model_id": "20d8a9d1315f454e80e289919e53a661",
       "version_major": 2,
       "version_minor": 0
      },
      "text/plain": [
       "VBox()"
      ]
     },
     "metadata": {},
     "output_type": "display_data"
    },
    {
     "data": {
      "application/vnd.jupyter.widget-view+json": {
       "model_id": "",
       "version_major": 2,
       "version_minor": 0
      },
      "text/plain": [
       "FloatProgress(value=0.0, bar_style='info', description='Progress:', layout=Layout(height='25px', width='50%'),…"
      ]
     },
     "metadata": {},
     "output_type": "display_data"
    },
    {
     "name": "stdout",
     "output_type": "stream",
     "text": [
      "Text(0.5, 1.0, 'Trips per day of week (in numbers starting Sunday)')\n",
      "<string>:1: RuntimeWarning: More than 20 figures have been opened. Figures created through the pyplot interface (`matplotlib.pyplot.figure`) are retained until explicitly closed and may consume too much memory. (To control this warning, see the rcParam `figure.max_open_warning`)."
     ]
    }
   ],
   "source": [
    "fig = plt.figure()\n",
    "\n",
    "sns.barplot(x = \"pickup_day_of_week\",\n",
    "            y = \"count\",\n",
    "            data = trips_by_day).set_title(\"Trips per day of week (in numbers starting Sunday)\")"
   ]
  },
  {
   "cell_type": "code",
   "execution_count": 69,
   "metadata": {},
   "outputs": [
    {
     "data": {
      "application/vnd.jupyter.widget-view+json": {
       "model_id": "",
       "version_major": 2,
       "version_minor": 0
      },
      "text/plain": [
       "FloatProgress(value=0.0, bar_style='info', description='Progress:', layout=Layout(height='25px', width='50%'),…"
      ]
     },
     "metadata": {},
     "output_type": "display_data"
    },
    {
     "data": {
      "image/png": "[encoded data removed]",
      "text/plain": [
       "<IPython.core.display.Image object>"
      ]
     },
     "metadata": {},
     "output_type": "display_data"
    }
   ],
   "source": [
    "%matplot plt"
   ]
  },
  {
   "cell_type": "code",
   "execution_count": 70,
   "metadata": {},
   "outputs": [
    {
     "data": {
      "application/vnd.jupyter.widget-view+json": {
       "model_id": "cf274fefb4cb4f949a2057b7f5acb521",
       "version_major": 2,
       "version_minor": 0
      },
      "text/plain": [
       "VBox()"
      ]
     },
     "metadata": {},
     "output_type": "display_data"
    },
    {
     "data": {
      "application/vnd.jupyter.widget-view+json": {
       "model_id": "",
       "version_major": 2,
       "version_minor": 0
      },
      "text/plain": [
       "FloatProgress(value=0.0, bar_style='info', description='Progress:', layout=Layout(height='25px', width='50%'),…"
      ]
     },
     "metadata": {},
     "output_type": "display_data"
    },
    {
     "name": "stdout",
     "output_type": "stream",
     "text": [
      "    pickup_hour    count\n",
      "20            0  2139866\n",
      "1             1  1584703\n",
      "15            2  1181754\n",
      "3             3   865742\n",
      "4             4   627217\n",
      "13            5   528350\n",
      "2             6  1108962\n",
      "19            7  1946680\n",
      "5             8  2455370\n",
      "22            9  2526974\n",
      "23           10  2439216\n",
      "6            11  2516889\n",
      "0            12  2658788\n",
      "17           13  2642588\n",
      "10           14  2722529\n",
      "14           15  2599788\n",
      "11           16  2231623\n",
      "18           17  2679117\n",
      "16           18  3255772\n",
      "7            19  3380180\n",
      "12           20  3184018\n",
      "9            21  3095506\n",
      "21           22  3010717\n",
      "8            23  2675409"
     ]
    }
   ],
   "source": [
    "trips_by_hour = train_data_filtered.groupBy(\"pickup_hour\").count().toPandas()\n",
    "trips_by_hour = trips_by_hour.sort_values(by = \"pickup_hour\")\n",
    "trips_by_hour"
   ]
  },
  {
   "cell_type": "code",
   "execution_count": 72,
   "metadata": {},
   "outputs": [
    {
     "data": {
      "application/vnd.jupyter.widget-view+json": {
       "model_id": "d384d10bdac74cd8ba0143540d35dcb3",
       "version_major": 2,
       "version_minor": 0
      },
      "text/plain": [
       "VBox()"
      ]
     },
     "metadata": {},
     "output_type": "display_data"
    },
    {
     "data": {
      "application/vnd.jupyter.widget-view+json": {
       "model_id": "",
       "version_major": 2,
       "version_minor": 0
      },
      "text/plain": [
       "FloatProgress(value=0.0, bar_style='info', description='Progress:', layout=Layout(height='25px', width='50%'),…"
      ]
     },
     "metadata": {},
     "output_type": "display_data"
    },
    {
     "name": "stdout",
     "output_type": "stream",
     "text": [
      "Text(0.5, 1.0, 'Trips per hour')"
     ]
    }
   ],
   "source": [
    "fig = plt.figure()\n",
    "\n",
    "sns.barplot(x = \"pickup_hour\",\n",
    "            y = \"count\",\n",
    "            data = trips_by_hour).set_title(\"Trips per hour\")"
   ]
  },
  {
   "cell_type": "code",
   "execution_count": 73,
   "metadata": {},
   "outputs": [
    {
     "data": {
      "application/vnd.jupyter.widget-view+json": {
       "model_id": "",
       "version_major": 2,
       "version_minor": 0
      },
      "text/plain": [
       "FloatProgress(value=0.0, bar_style='info', description='Progress:', layout=Layout(height='25px', width='50%'),…"
      ]
     },
     "metadata": {},
     "output_type": "display_data"
    },
    {
     "data": {
      "image/png": "[encoded data removed]",
      "text/plain": [
       "<IPython.core.display.Image object>"
      ]
     },
     "metadata": {},
     "output_type": "display_data"
    }
   ],
   "source": [
    "%matplot plt"
   ]
  },
  {
   "cell_type": "code",
   "execution_count": 90,
   "metadata": {},
   "outputs": [
    {
     "data": {
      "application/vnd.jupyter.widget-view+json": {
       "model_id": "d02ed924b5ef4ce081c1fa6ac7359393",
       "version_major": 2,
       "version_minor": 0
      },
      "text/plain": [
       "VBox()"
      ]
     },
     "metadata": {},
     "output_type": "display_data"
    },
    {
     "data": {
      "application/vnd.jupyter.widget-view+json": {
       "model_id": "",
       "version_major": 2,
       "version_minor": 0
      },
      "text/plain": [
       "FloatProgress(value=0.0, bar_style='info', description='Progress:', layout=Layout(height='25px', width='50%'),…"
      ]
     },
     "metadata": {},
     "output_type": "display_data"
    },
    {
     "name": "stdout",
     "output_type": "stream",
     "text": [
      "   pickup_year  avg(pickup_year)  avg(fare_amount)\n",
      "6         2009            2009.0         10.036191\n",
      "0         2010            2010.0         10.137589\n",
      "1         2011            2011.0         10.425817\n",
      "5         2012            2012.0         11.124391\n",
      "2         2013            2013.0         12.506418\n",
      "4         2014            2014.0         12.824710\n",
      "3         2015            2015.0         12.887004"
     ]
    }
   ],
   "source": [
    "avg_fares_year = train_data_filtered.select(\"pickup_year\", \"fare_amount\").groupBy(\"pickup_year\").mean().toPandas()\n",
    "avg_fares_year.sort_values(by = \"pickup_year\", inplace = True)\n",
    "avg_fares_year"
   ]
  },
  {
   "cell_type": "code",
   "execution_count": 91,
   "metadata": {},
   "outputs": [
    {
     "data": {
      "application/vnd.jupyter.widget-view+json": {
       "model_id": "af7607ce2278466cb8ac206cec04d64c",
       "version_major": 2,
       "version_minor": 0
      },
      "text/plain": [
       "VBox()"
      ]
     },
     "metadata": {},
     "output_type": "display_data"
    },
    {
     "data": {
      "application/vnd.jupyter.widget-view+json": {
       "model_id": "",
       "version_major": 2,
       "version_minor": 0
      },
      "text/plain": [
       "FloatProgress(value=0.0, bar_style='info', description='Progress:', layout=Layout(height='25px', width='50%'),…"
      ]
     },
     "metadata": {},
     "output_type": "display_data"
    },
    {
     "name": "stdout",
     "output_type": "stream",
     "text": [
      "Text(0.5, 1.0, 'Average Fares Each Year')"
     ]
    }
   ],
   "source": [
    "fig = plt.figure()\n",
    "\n",
    "sns.barplot(x = \"pickup_year\",\n",
    "            y = \"avg(fare_amount)\",\n",
    "            data = avg_fares_year).set_title(\"Average Fares Each Year\")"
   ]
  },
  {
   "cell_type": "code",
   "execution_count": 92,
   "metadata": {},
   "outputs": [
    {
     "data": {
      "application/vnd.jupyter.widget-view+json": {
       "model_id": "",
       "version_major": 2,
       "version_minor": 0
      },
      "text/plain": [
       "FloatProgress(value=0.0, bar_style='info', description='Progress:', layout=Layout(height='25px', width='50%'),…"
      ]
     },
     "metadata": {},
     "output_type": "display_data"
    },
    {
     "data": {
      "image/png": "[encoded data removed]",
      "text/plain": [
       "<IPython.core.display.Image object>"
      ]
     },
     "metadata": {},
     "output_type": "display_data"
    }
   ],
   "source": [
    "%matplot plt"
   ]
  },
  {
   "cell_type": "code",
   "execution_count": 93,
   "metadata": {},
   "outputs": [
    {
     "data": {
      "application/vnd.jupyter.widget-view+json": {
       "model_id": "20d3d12514d347e7a5d4a0d27d94c721",
       "version_major": 2,
       "version_minor": 0
      },
      "text/plain": [
       "VBox()"
      ]
     },
     "metadata": {},
     "output_type": "display_data"
    },
    {
     "data": {
      "application/vnd.jupyter.widget-view+json": {
       "model_id": "",
       "version_major": 2,
       "version_minor": 0
      },
      "text/plain": [
       "FloatProgress(value=0.0, bar_style='info', description='Progress:', layout=Layout(height='25px', width='50%'),…"
      ]
     },
     "metadata": {},
     "output_type": "display_data"
    },
    {
     "name": "stdout",
     "output_type": "stream",
     "text": [
      "    pickup_month  avg(pickup_month)  avg(fare_amount)\n",
      "1              1                1.0         10.690427\n",
      "8              2                2.0         10.850605\n",
      "3              3                3.0         11.135737\n",
      "4              4                4.0         11.258153\n",
      "7              5                5.0         11.539938\n",
      "2              6                6.0         11.506472\n",
      "9              7                7.0         11.067508\n",
      "5              8                8.0         11.175669\n",
      "10             9                9.0         11.675097\n",
      "11            10               10.0         11.589168\n",
      "6             11               11.0         11.506481\n",
      "0             12               12.0         11.539273"
     ]
    }
   ],
   "source": [
    "avg_fares_month = train_data_filtered.select(\"pickup_month\", \"fare_amount\").groupBy(\"pickup_month\").mean().toPandas()\n",
    "avg_fares_month.sort_values(by = \"pickup_month\", inplace = True)\n",
    "avg_fares_month"
   ]
  },
  {
   "cell_type": "code",
   "execution_count": 94,
   "metadata": {},
   "outputs": [
    {
     "data": {
      "application/vnd.jupyter.widget-view+json": {
       "model_id": "2b63c4e14c274dc3a22af1bee242f0b2",
       "version_major": 2,
       "version_minor": 0
      },
      "text/plain": [
       "VBox()"
      ]
     },
     "metadata": {},
     "output_type": "display_data"
    },
    {
     "data": {
      "application/vnd.jupyter.widget-view+json": {
       "model_id": "",
       "version_major": 2,
       "version_minor": 0
      },
      "text/plain": [
       "FloatProgress(value=0.0, bar_style='info', description='Progress:', layout=Layout(height='25px', width='50%'),…"
      ]
     },
     "metadata": {},
     "output_type": "display_data"
    },
    {
     "name": "stdout",
     "output_type": "stream",
     "text": [
      "Text(0.5, 1.0, 'Average Fares Each Month')"
     ]
    }
   ],
   "source": [
    "fig = plt.figure()\n",
    "\n",
    "sns.barplot(x = \"pickup_month\",\n",
    "            y = \"avg(fare_amount)\",\n",
    "            data = avg_fares_month).set_title(\"Average Fares Each Month\")"
   ]
  },
  {
   "cell_type": "code",
   "execution_count": 95,
   "metadata": {},
   "outputs": [
    {
     "data": {
      "application/vnd.jupyter.widget-view+json": {
       "model_id": "",
       "version_major": 2,
       "version_minor": 0
      },
      "text/plain": [
       "FloatProgress(value=0.0, bar_style='info', description='Progress:', layout=Layout(height='25px', width='50%'),…"
      ]
     },
     "metadata": {},
     "output_type": "display_data"
    },
    {
     "data": {
      "image/png": "[encoded data removed]",
      "text/plain": [
       "<IPython.core.display.Image object>"
      ]
     },
     "metadata": {},
     "output_type": "display_data"
    }
   ],
   "source": [
    "%matplot plt"
   ]
  },
  {
   "cell_type": "code",
   "execution_count": 96,
   "metadata": {},
   "outputs": [
    {
     "data": {
      "application/vnd.jupyter.widget-view+json": {
       "model_id": "489a656fbe8344ac8eb954f5f1b9e882",
       "version_major": 2,
       "version_minor": 0
      },
      "text/plain": [
       "VBox()"
      ]
     },
     "metadata": {},
     "output_type": "display_data"
    },
    {
     "data": {
      "application/vnd.jupyter.widget-view+json": {
       "model_id": "",
       "version_major": 2,
       "version_minor": 0
      },
      "text/plain": [
       "FloatProgress(value=0.0, bar_style='info', description='Progress:', layout=Layout(height='25px', width='50%'),…"
      ]
     },
     "metadata": {},
     "output_type": "display_data"
    },
    {
     "name": "stdout",
     "output_type": "stream",
     "text": [
      "   pickup_day_of_week  avg(pickup_day_of_week)  avg(fare_amount)\n",
      "0                   1                      1.0         11.583543\n",
      "5                   2                      2.0         11.320434\n",
      "2                   3                      3.0         11.138204\n",
      "3                   4                      4.0         11.257655\n",
      "4                   5                      5.0         11.441898\n",
      "1                   6                      6.0         11.368184\n",
      "6                   7                      7.0         10.947569"
     ]
    }
   ],
   "source": [
    "avg_fares_day = train_data_filtered.select(\"pickup_day_of_week\", \"fare_amount\").groupBy(\"pickup_day_of_week\").mean().toPandas()\n",
    "avg_fares_day.sort_values(by = \"pickup_day_of_week\", inplace = True)\n",
    "avg_fares_day"
   ]
  },
  {
   "cell_type": "code",
   "execution_count": 97,
   "metadata": {},
   "outputs": [
    {
     "data": {
      "application/vnd.jupyter.widget-view+json": {
       "model_id": "11013e7b2f94405f83aa4eb2049bd5b6",
       "version_major": 2,
       "version_minor": 0
      },
      "text/plain": [
       "VBox()"
      ]
     },
     "metadata": {},
     "output_type": "display_data"
    },
    {
     "data": {
      "application/vnd.jupyter.widget-view+json": {
       "model_id": "",
       "version_major": 2,
       "version_minor": 0
      },
      "text/plain": [
       "FloatProgress(value=0.0, bar_style='info', description='Progress:', layout=Layout(height='25px', width='50%'),…"
      ]
     },
     "metadata": {},
     "output_type": "display_data"
    },
    {
     "name": "stdout",
     "output_type": "stream",
     "text": [
      "Text(0.5, 1.0, 'Average Fares for Each Day (starting Sunday in numbers)')"
     ]
    }
   ],
   "source": [
    "fig = plt.figure()\n",
    "\n",
    "sns.barplot(x = \"pickup_day_of_week\",\n",
    "            y = \"avg(fare_amount)\",\n",
    "            data = avg_fares_day).set_title(\"Average Fares for Each Day (starting Sunday in numbers)\")"
   ]
  },
  {
   "cell_type": "code",
   "execution_count": 98,
   "metadata": {},
   "outputs": [
    {
     "data": {
      "application/vnd.jupyter.widget-view+json": {
       "model_id": "",
       "version_major": 2,
       "version_minor": 0
      },
      "text/plain": [
       "FloatProgress(value=0.0, bar_style='info', description='Progress:', layout=Layout(height='25px', width='50%'),…"
      ]
     },
     "metadata": {},
     "output_type": "display_data"
    },
    {
     "data": {
      "image/png": "[encoded data removed]",
      "text/plain": [
       "<IPython.core.display.Image object>"
      ]
     },
     "metadata": {},
     "output_type": "display_data"
    }
   ],
   "source": [
    "%matplot plt"
   ]
  },
  {
   "cell_type": "code",
   "execution_count": 99,
   "metadata": {},
   "outputs": [
    {
     "data": {
      "application/vnd.jupyter.widget-view+json": {
       "model_id": "aeca7487c8b140bca16a840053bfbf01",
       "version_major": 2,
       "version_minor": 0
      },
      "text/plain": [
       "VBox()"
      ]
     },
     "metadata": {},
     "output_type": "display_data"
    },
    {
     "data": {
      "application/vnd.jupyter.widget-view+json": {
       "model_id": "",
       "version_major": 2,
       "version_minor": 0
      },
      "text/plain": [
       "FloatProgress(value=0.0, bar_style='info', description='Progress:', layout=Layout(height='25px', width='50%'),…"
      ]
     },
     "metadata": {},
     "output_type": "display_data"
    },
    {
     "name": "stdout",
     "output_type": "stream",
     "text": [
      "    pickup_hour  avg(pickup_hour)  avg(fare_amount)\n",
      "20            0               0.0         11.622322\n",
      "1             1               1.0         11.349003\n",
      "15            2               2.0         11.331435\n",
      "3             3               3.0         11.786527\n",
      "4             4               4.0         13.521306\n",
      "13            5               5.0         15.098579\n",
      "2             6               6.0         12.128896\n",
      "19            7               7.0         10.955931\n",
      "5             8               8.0         10.877159\n",
      "22            9               9.0         10.831554\n",
      "23           10              10.0         10.885888\n",
      "6            11              11.0         11.078682\n",
      "0            12              12.0         11.092259\n",
      "17           13              13.0         11.481311\n",
      "10           14              14.0         11.827846\n",
      "14           15              15.0         11.917005\n",
      "11           16              16.0         11.822765\n",
      "18           17              17.0         11.445367\n",
      "16           18              18.0         10.877042\n",
      "7            19              19.0         10.523951\n",
      "12           20              20.0         10.704785\n",
      "9            21              21.0         10.984665\n",
      "21           22              22.0         11.289432\n",
      "8            23              23.0         11.566282"
     ]
    }
   ],
   "source": [
    "avg_fares_hour = train_data_filtered.select(\"pickup_hour\", \"fare_amount\").groupBy(\"pickup_hour\").mean().toPandas()\n",
    "avg_fares_hour.sort_values(by = \"pickup_hour\", inplace = True)\n",
    "avg_fares_hour"
   ]
  },
  {
   "cell_type": "code",
   "execution_count": 100,
   "metadata": {},
   "outputs": [
    {
     "data": {
      "application/vnd.jupyter.widget-view+json": {
       "model_id": "7ead8629d9b64664b17dc05fd7075ec9",
       "version_major": 2,
       "version_minor": 0
      },
      "text/plain": [
       "VBox()"
      ]
     },
     "metadata": {},
     "output_type": "display_data"
    },
    {
     "data": {
      "application/vnd.jupyter.widget-view+json": {
       "model_id": "",
       "version_major": 2,
       "version_minor": 0
      },
      "text/plain": [
       "FloatProgress(value=0.0, bar_style='info', description='Progress:', layout=Layout(height='25px', width='50%'),…"
      ]
     },
     "metadata": {},
     "output_type": "display_data"
    },
    {
     "name": "stdout",
     "output_type": "stream",
     "text": [
      "Text(0.5, 1.0, 'Average Fares for Each Hour')"
     ]
    }
   ],
   "source": [
    "fig = plt.figure()\n",
    "\n",
    "sns.barplot(x = \"pickup_hour\",\n",
    "            y = \"avg(fare_amount)\",\n",
    "            data = avg_fares_hour).set_title(\"Average Fares for Each Hour\")"
   ]
  },
  {
   "cell_type": "code",
   "execution_count": 101,
   "metadata": {},
   "outputs": [
    {
     "data": {
      "application/vnd.jupyter.widget-view+json": {
       "model_id": "",
       "version_major": 2,
       "version_minor": 0
      },
      "text/plain": [
       "FloatProgress(value=0.0, bar_style='info', description='Progress:', layout=Layout(height='25px', width='50%'),…"
      ]
     },
     "metadata": {},
     "output_type": "display_data"
    },
    {
     "data": {
      "image/png": "[encoded data removed]",
      "text/plain": [
       "<IPython.core.display.Image object>"
      ]
     },
     "metadata": {},
     "output_type": "display_data"
    }
   ],
   "source": [
    "%matplot plt"
   ]
  },
  {
   "cell_type": "markdown",
   "metadata": {},
   "source": [
    "# Building a ML Pipeline"
   ]
  },
  {
   "cell_type": "code",
   "execution_count": 109,
   "metadata": {},
   "outputs": [
    {
     "data": {
      "application/vnd.jupyter.widget-view+json": {
       "model_id": "41401d2743d54a74a2b925a91e3fd725",
       "version_major": 2,
       "version_minor": 0
      },
      "text/plain": [
       "VBox()"
      ]
     },
     "metadata": {},
     "output_type": "display_data"
    },
    {
     "data": {
      "application/vnd.jupyter.widget-view+json": {
       "model_id": "",
       "version_major": 2,
       "version_minor": 0
      },
      "text/plain": [
       "FloatProgress(value=0.0, bar_style='info', description='Progress:', layout=Layout(height='25px', width='50%'),…"
      ]
     },
     "metadata": {},
     "output_type": "display_data"
    },
    {
     "name": "stdout",
     "output_type": "stream",
     "text": [
      "root\n",
      " |-- key: timestamp (nullable = true)\n",
      " |-- fare_amount: double (nullable = true)\n",
      " |-- pickup_datetime: timestamp (nullable = true)\n",
      " |-- pickup_longitude: double (nullable = true)\n",
      " |-- pickup_latitude: double (nullable = true)\n",
      " |-- dropoff_longitude: double (nullable = true)\n",
      " |-- dropoff_latitude: double (nullable = true)\n",
      " |-- passenger_count: integer (nullable = true)\n",
      " |-- pickup_date: date (nullable = true)\n",
      " |-- pickup_day: integer (nullable = true)\n",
      " |-- pickup_hour: integer (nullable = true)\n",
      " |-- pickup_day_of_week: integer (nullable = true)\n",
      " |-- pickup_month: integer (nullable = true)\n",
      " |-- pickup_year: integer (nullable = true)\n",
      " |-- is_pickup_JFK: boolean (nullable = true)\n",
      " |-- is_dropoff_JFK: boolean (nullable = true)\n",
      " |-- is_pickup_EWR: boolean (nullable = true)\n",
      " |-- is_dropoff_EWR: boolean (nullable = true)\n",
      " |-- is_pickup_LaGuardia: boolean (nullable = true)\n",
      " |-- is_dropoff_LaGuardia: boolean (nullable = true)\n",
      " |-- trip_distance: double (nullable = true)\n",
      " |-- pickup_borough: string (nullable = true)\n",
      " |-- dropoff_borough: string (nullable = true)\n",
      " |-- is_pickup_in_lower_manhattan: boolean (nullable = true)\n",
      " |-- is_drop_in_lower_manhattan: boolean (nullable = true)"
     ]
    }
   ],
   "source": [
    "train_data_filtered.printSchema()"
   ]
  },
  {
   "cell_type": "markdown",
   "metadata": {},
   "source": [
    "First, we drop the 'pickup_datetime' and 'pickup_date' columns because of their type. Next, we encode the 'pickup_borough' and 'dropoff_borough' columns"
   ]
  },
  {
   "cell_type": "code",
   "execution_count": 116,
   "metadata": {},
   "outputs": [
    {
     "data": {
      "application/vnd.jupyter.widget-view+json": {
       "model_id": "7017c5a357564332a09a9e4101ec4cf3",
       "version_major": 2,
       "version_minor": 0
      },
      "text/plain": [
       "VBox()"
      ]
     },
     "metadata": {},
     "output_type": "display_data"
    },
    {
     "data": {
      "application/vnd.jupyter.widget-view+json": {
       "model_id": "",
       "version_major": 2,
       "version_minor": 0
      },
      "text/plain": [
       "FloatProgress(value=0.0, bar_style='info', description='Progress:', layout=Layout(height='25px', width='50%'),…"
      ]
     },
     "metadata": {},
     "output_type": "display_data"
    }
   ],
   "source": [
    "from pyspark.ml.feature import StringIndexer, OneHotEncoderEstimator, VectorAssembler\n",
    "from pyspark.ml import Pipeline"
   ]
  },
  {
   "cell_type": "code",
   "execution_count": null,
   "metadata": {},
   "outputs": [],
   "source": [
    "train_data_filtered = train_data_filtered.drop(\"pickup_datetime\", \"pickup_date\")"
   ]
  },
  {
   "cell_type": "markdown",
   "metadata": {},
   "source": [
    "### Encoding data and removing un-encoded columns"
   ]
  },
  {
   "cell_type": "code",
   "execution_count": 118,
   "metadata": {},
   "outputs": [
    {
     "data": {
      "application/vnd.jupyter.widget-view+json": {
       "model_id": "3cff5db027b742bb979b5a254f64bbf7",
       "version_major": 2,
       "version_minor": 0
      },
      "text/plain": [
       "VBox()"
      ]
     },
     "metadata": {},
     "output_type": "display_data"
    },
    {
     "data": {
      "application/vnd.jupyter.widget-view+json": {
       "model_id": "",
       "version_major": 2,
       "version_minor": 0
      },
      "text/plain": [
       "FloatProgress(value=0.0, bar_style='info', description='Progress:', layout=Layout(height='25px', width='50%'),…"
      ]
     },
     "metadata": {},
     "output_type": "display_data"
    },
    {
     "name": "stdout",
     "output_type": "stream",
     "text": [
      "23\n",
      "+-------------------+-----------+----------------+---------------+-----------------+----------------+---------------+----------+-----------+------------------+------------+-----------+-------------+--------------+-------------+--------------+-------------------+--------------------+------------------+----------------------------+--------------------------+------------------+-------------------+\n",
      "|                key|fare_amount|pickup_longitude|pickup_latitude|dropoff_longitude|dropoff_latitude|passenger_count|pickup_day|pickup_hour|pickup_day_of_week|pickup_month|pickup_year|is_pickup_JFK|is_dropoff_JFK|is_pickup_EWR|is_dropoff_EWR|is_pickup_LaGuardia|is_dropoff_LaGuardia|     trip_distance|is_pickup_in_lower_manhattan|is_drop_in_lower_manhattan|pickup_borough_OHE|dropoff_borough_OHE|\n",
      "+-------------------+-----------+----------------+---------------+-----------------+----------------+---------------+----------+-----------+------------------+------------+-----------+-------------+--------------+-------------+--------------+-------------------+--------------------+------------------+----------------------------+--------------------------+------------------+-------------------+\n",
      "|2009-06-15 17:26:21|        4.5|      -73.844311|      40.721319|        -73.84161|       40.712278|              1|        15|         17|                 2|           6|       2009|        false|         false|        false|         false|              false|               false|0.6404870231407276|                       false|                     false|     (5,[1],[1.0])|      (5,[1],[1.0])|\n",
      "|2010-01-05 16:52:16|       16.9|      -74.016048|      40.711303|       -73.979268|       40.782004|              1|         5|         16|                 3|           1|       2010|        false|         false|        false|         false|              false|               false| 5.250669652366417|                        true|                     false|     (5,[0],[1.0])|      (5,[0],[1.0])|\n",
      "|2011-08-18 00:35:00|        5.7|      -73.982738|       40.76127|       -73.991242|       40.750562|              2|        18|          0|                 5|           8|       2011|        false|         false|        false|         false|              false|               false|0.8634109565058572|                       false|                     false|     (5,[0],[1.0])|      (5,[0],[1.0])|\n",
      "|2012-04-21 04:30:42|        7.7|       -73.98713|      40.733143|       -73.991567|       40.758092|              1|        21|          4|                 7|           4|       2012|        false|         false|        false|         false|              false|               false|1.7393859082192853|                        true|                     false|     (5,[0],[1.0])|      (5,[0],[1.0])|\n",
      "|2010-03-09 07:51:00|        5.3|      -73.968095|      40.768008|       -73.956655|       40.783762|              1|         9|          7|                 3|           3|       2010|        false|         false|        false|         false|              false|               false|1.2422184522938338|                       false|                     false|     (5,[0],[1.0])|      (5,[0],[1.0])|\n",
      "+-------------------+-----------+----------------+---------------+-----------------+----------------+---------------+----------+-----------+------------------+------------+-----------+-------------+--------------+-------------+--------------+-------------------+--------------------+------------------+----------------------------+--------------------------+------------------+-------------------+\n",
      "only showing top 5 rows"
     ]
    }
   ],
   "source": [
    "# create object of StringIndexer class and specify input and output column\n",
    "SI_pickup = StringIndexer(inputCol='pickup_borough',outputCol='pickup_borough_encoded')\n",
    "SI_dropoff = StringIndexer(inputCol='dropoff_borough',outputCol='dropoff_borough_encoded')\n",
    "\n",
    "# transform the data\n",
    "train_data_filtered = SI_pickup.fit(train_data_filtered).transform(train_data_filtered)\n",
    "train_data_filtered = SI_dropoff.fit(train_data_filtered).transform(train_data_filtered)\n",
    "\n",
    "# create object and specify input and output column\n",
    "OHE = OneHotEncoderEstimator(inputCols=['pickup_borough_encoded', 'dropoff_borough_encoded'],\\\n",
    "                             outputCols=['pickup_borough_OHE', 'dropoff_borough_OHE'])\n",
    "\n",
    "# transform the data\n",
    "train_data_filtered = OHE.fit(train_data_filtered).transform(train_data_filtered)\n",
    "\n",
    "train_data_filtered = train_data_filtered.drop(\"pickup_borough\", \"dropoff_borough\", \"pickup_borough_encoded\", \n",
    "                                               \"dropoff_borough_encoded\")\n",
    "\n",
    "print(len(train_data_filtered.columns))\n",
    "train_data_filtered.show(5)"
   ]
  },
  {
   "cell_type": "code",
   "execution_count": 135,
   "metadata": {},
   "outputs": [
    {
     "data": {
      "application/vnd.jupyter.widget-view+json": {
       "model_id": "2b733e45edfe4046bf5097fdbee2a799",
       "version_major": 2,
       "version_minor": 0
      },
      "text/plain": [
       "VBox()"
      ]
     },
     "metadata": {},
     "output_type": "display_data"
    },
    {
     "data": {
      "application/vnd.jupyter.widget-view+json": {
       "model_id": "",
       "version_major": 2,
       "version_minor": 0
      },
      "text/plain": [
       "FloatProgress(value=0.0, bar_style='info', description='Progress:', layout=Layout(height='25px', width='50%'),…"
      ]
     },
     "metadata": {},
     "output_type": "display_data"
    }
   ],
   "source": [
    "train_data_filtered = train_data_filtered.drop(\"key\")"
   ]
  },
  {
   "cell_type": "markdown",
   "metadata": {},
   "source": [
    "### VectorAssembling"
   ]
  },
  {
   "cell_type": "code",
   "execution_count": 155,
   "metadata": {},
   "outputs": [
    {
     "data": {
      "application/vnd.jupyter.widget-view+json": {
       "model_id": "a0414b450f6444ca8f62a5744bc9d075",
       "version_major": 2,
       "version_minor": 0
      },
      "text/plain": [
       "VBox()"
      ]
     },
     "metadata": {},
     "output_type": "display_data"
    },
    {
     "data": {
      "application/vnd.jupyter.widget-view+json": {
       "model_id": "",
       "version_major": 2,
       "version_minor": 0
      },
      "text/plain": [
       "FloatProgress(value=0.0, bar_style='info', description='Progress:', layout=Layout(height='25px', width='50%'),…"
      ]
     },
     "metadata": {},
     "output_type": "display_data"
    }
   ],
   "source": [
    "featureColumns = ['pickup_longitude', 'pickup_latitude', 'dropoff_longitude', 'dropoff_latitude', 'passenger_count', \\\n",
    "                  'pickup_day', 'pickup_hour', 'pickup_day_of_week', 'pickup_month', 'pickup_year', 'is_pickup_JFK', \\\n",
    "                  'is_dropoff_JFK', 'is_pickup_EWR', 'is_dropoff_EWR', 'is_pickup_LaGuardia', 'is_dropoff_LaGuardia', \\\n",
    "                  'trip_distance', 'is_pickup_in_lower_manhattan', 'is_drop_in_lower_manhattan', 'pickup_borough_OHE', \\\n",
    "                  'dropoff_borough_OHE']\n",
    "\n",
    "assembler = VectorAssembler(inputCols= featureColumns, outputCol=\"features\")\n",
    "\n",
    "full_set = assembler.transform(train_data_filtered)"
   ]
  },
  {
   "cell_type": "code",
   "execution_count": 156,
   "metadata": {},
   "outputs": [
    {
     "data": {
      "application/vnd.jupyter.widget-view+json": {
       "model_id": "e37360ec7cfa497d86a89289355fc7e7",
       "version_major": 2,
       "version_minor": 0
      },
      "text/plain": [
       "VBox()"
      ]
     },
     "metadata": {},
     "output_type": "display_data"
    },
    {
     "data": {
      "application/vnd.jupyter.widget-view+json": {
       "model_id": "",
       "version_major": 2,
       "version_minor": 0
      },
      "text/plain": [
       "FloatProgress(value=0.0, bar_style='info', description='Progress:', layout=Layout(height='25px', width='50%'),…"
      ]
     },
     "metadata": {},
     "output_type": "display_data"
    },
    {
     "name": "stdout",
     "output_type": "stream",
     "text": [
      "+-----------+----------------+---------------+-----------------+----------------+---------------+----------+-----------+------------------+------------+-----------+-------------+--------------+-------------+--------------+-------------------+--------------------+------------------+----------------------------+--------------------------+------------------+-------------------+--------------------+\n",
      "|fare_amount|pickup_longitude|pickup_latitude|dropoff_longitude|dropoff_latitude|passenger_count|pickup_day|pickup_hour|pickup_day_of_week|pickup_month|pickup_year|is_pickup_JFK|is_dropoff_JFK|is_pickup_EWR|is_dropoff_EWR|is_pickup_LaGuardia|is_dropoff_LaGuardia|     trip_distance|is_pickup_in_lower_manhattan|is_drop_in_lower_manhattan|pickup_borough_OHE|dropoff_borough_OHE|            features|\n",
      "+-----------+----------------+---------------+-----------------+----------------+---------------+----------+-----------+------------------+------------+-----------+-------------+--------------+-------------+--------------+-------------------+--------------------+------------------+----------------------------+--------------------------+------------------+-------------------+--------------------+\n",
      "|        4.5|      -73.844311|      40.721319|        -73.84161|       40.712278|              1|        15|         17|                 2|           6|       2009|        false|         false|        false|         false|              false|               false|0.6404870231407276|                       false|                     false|     (5,[1],[1.0])|      (5,[1],[1.0])|(29,[0,1,2,3,4,5,...|\n",
      "|       16.9|      -74.016048|      40.711303|       -73.979268|       40.782004|              1|         5|         16|                 3|           1|       2010|        false|         false|        false|         false|              false|               false| 5.250669652366417|                        true|                     false|     (5,[0],[1.0])|      (5,[0],[1.0])|(29,[0,1,2,3,4,5,...|\n",
      "|        5.7|      -73.982738|       40.76127|       -73.991242|       40.750562|              2|        18|          0|                 5|           8|       2011|        false|         false|        false|         false|              false|               false|0.8634109565058572|                       false|                     false|     (5,[0],[1.0])|      (5,[0],[1.0])|(29,[0,1,2,3,4,5,...|\n",
      "|        7.7|       -73.98713|      40.733143|       -73.991567|       40.758092|              1|        21|          4|                 7|           4|       2012|        false|         false|        false|         false|              false|               false|1.7393859082192853|                        true|                     false|     (5,[0],[1.0])|      (5,[0],[1.0])|(29,[0,1,2,3,4,5,...|\n",
      "|        5.3|      -73.968095|      40.768008|       -73.956655|       40.783762|              1|         9|          7|                 3|           3|       2010|        false|         false|        false|         false|              false|               false|1.2422184522938338|                       false|                     false|     (5,[0],[1.0])|      (5,[0],[1.0])|(29,[0,1,2,3,4,5,...|\n",
      "+-----------+----------------+---------------+-----------------+----------------+---------------+----------+-----------+------------------+------------+-----------+-------------+--------------+-------------+--------------+-------------------+--------------------+------------------+----------------------------+--------------------------+------------------+-------------------+--------------------+\n",
      "only showing top 5 rows"
     ]
    }
   ],
   "source": [
    "full_set.show(5)"
   ]
  },
  {
   "cell_type": "markdown",
   "metadata": {},
   "source": [
    "### Split train and test set"
   ]
  },
  {
   "cell_type": "code",
   "execution_count": 157,
   "metadata": {},
   "outputs": [
    {
     "data": {
      "application/vnd.jupyter.widget-view+json": {
       "model_id": "5a0e0e1ff945446c9ce3e96e959ceab0",
       "version_major": 2,
       "version_minor": 0
      },
      "text/plain": [
       "VBox()"
      ]
     },
     "metadata": {},
     "output_type": "display_data"
    },
    {
     "data": {
      "application/vnd.jupyter.widget-view+json": {
       "model_id": "",
       "version_major": 2,
       "version_minor": 0
      },
      "text/plain": [
       "FloatProgress(value=0.0, bar_style='info', description='Progress:', layout=Layout(height='25px', width='50%'),…"
      ]
     },
     "metadata": {},
     "output_type": "display_data"
    }
   ],
   "source": [
    "train_set, test_set = full_set.randomSplit([0.9, 0.1], seed=0)"
   ]
  },
  {
   "cell_type": "code",
   "execution_count": 158,
   "metadata": {},
   "outputs": [
    {
     "data": {
      "application/vnd.jupyter.widget-view+json": {
       "model_id": "4903d69b2b8c408e832f9e0fb3d2fd16",
       "version_major": 2,
       "version_minor": 0
      },
      "text/plain": [
       "VBox()"
      ]
     },
     "metadata": {},
     "output_type": "display_data"
    },
    {
     "data": {
      "application/vnd.jupyter.widget-view+json": {
       "model_id": "",
       "version_major": 2,
       "version_minor": 0
      },
      "text/plain": [
       "FloatProgress(value=0.0, bar_style='info', description='Progress:', layout=Layout(height='25px', width='50%'),…"
      ]
     },
     "metadata": {},
     "output_type": "display_data"
    },
    {
     "name": "stdout",
     "output_type": "stream",
     "text": [
      "5406428 23\n",
      "48651330 23"
     ]
    }
   ],
   "source": [
    "print(test_set.count(), len(test_set.columns))\n",
    "print(train_set.count(), len(train_set.columns))"
   ]
  },
  {
   "cell_type": "markdown",
   "metadata": {},
   "source": [
    "### Random Forest"
   ]
  },
  {
   "cell_type": "code",
   "execution_count": 159,
   "metadata": {},
   "outputs": [
    {
     "data": {
      "application/vnd.jupyter.widget-view+json": {
       "model_id": "e851fcee0c7e42a4a8d4a985cb184a5d",
       "version_major": 2,
       "version_minor": 0
      },
      "text/plain": [
       "VBox()"
      ]
     },
     "metadata": {},
     "output_type": "display_data"
    },
    {
     "data": {
      "application/vnd.jupyter.widget-view+json": {
       "model_id": "",
       "version_major": 2,
       "version_minor": 0
      },
      "text/plain": [
       "FloatProgress(value=0.0, bar_style='info', description='Progress:', layout=Layout(height='25px', width='50%'),…"
      ]
     },
     "metadata": {},
     "output_type": "display_data"
    }
   ],
   "source": [
    "from pyspark.ml.regression import RandomForestRegressor\n",
    "from pyspark.ml.evaluation import RegressionEvaluator\n",
    "\n",
    "rf = RandomForestRegressor(labelCol=\"fare_amount\", featuresCol= \"features\")\n",
    "model = rf.fit(train_set)\n",
    "\n",
    "predictions = model.transform(test_set)"
   ]
  },
  {
   "cell_type": "code",
   "execution_count": 160,
   "metadata": {},
   "outputs": [
    {
     "data": {
      "application/vnd.jupyter.widget-view+json": {
       "model_id": "1f2ef672276541878d061a08814222e3",
       "version_major": 2,
       "version_minor": 0
      },
      "text/plain": [
       "VBox()"
      ]
     },
     "metadata": {},
     "output_type": "display_data"
    },
    {
     "data": {
      "application/vnd.jupyter.widget-view+json": {
       "model_id": "",
       "version_major": 2,
       "version_minor": 0
      },
      "text/plain": [
       "FloatProgress(value=0.0, bar_style='info', description='Progress:', layout=Layout(height='25px', width='50%'),…"
      ]
     },
     "metadata": {},
     "output_type": "display_data"
    },
    {
     "name": "stdout",
     "output_type": "stream",
     "text": [
      "+------------------+-----------+\n",
      "|        prediction|fare_amount|\n",
      "+------------------+-----------+\n",
      "| 18.42720878127786|        2.5|\n",
      "|11.877214852627052|        2.5|\n",
      "| 16.08345399361932|        2.5|\n",
      "| 14.91263213808153|        2.5|\n",
      "| 8.857089332423525|        2.5|\n",
      "+------------------+-----------+\n",
      "only showing top 5 rows"
     ]
    }
   ],
   "source": [
    "predictions.select(\"prediction\", \"fare_amount\").show(5)"
   ]
  },
  {
   "cell_type": "code",
   "execution_count": 162,
   "metadata": {},
   "outputs": [
    {
     "data": {
      "application/vnd.jupyter.widget-view+json": {
       "model_id": "fb2185f745044879a1eb1e8d0875a99d",
       "version_major": 2,
       "version_minor": 0
      },
      "text/plain": [
       "VBox()"
      ]
     },
     "metadata": {},
     "output_type": "display_data"
    },
    {
     "data": {
      "application/vnd.jupyter.widget-view+json": {
       "model_id": "",
       "version_major": 2,
       "version_minor": 0
      },
      "text/plain": [
       "FloatProgress(value=0.0, bar_style='info', description='Progress:', layout=Layout(height='25px', width='50%'),…"
      ]
     },
     "metadata": {},
     "output_type": "display_data"
    },
    {
     "name": "stdout",
     "output_type": "stream",
     "text": [
      "RMSE Error on test set:  4.4201998172430255"
     ]
    }
   ],
   "source": [
    "evaluator = RegressionEvaluator(predictionCol=\"prediction\", labelCol=\"fare_amount\",metricName=\"rmse\")\n",
    "print(\"RMSE Error on test set: \", evaluator.evaluate(predictions))"
   ]
  },
  {
   "cell_type": "markdown",
   "metadata": {},
   "source": [
    "### Decision Tree"
   ]
  },
  {
   "cell_type": "code",
   "execution_count": 163,
   "metadata": {},
   "outputs": [
    {
     "data": {
      "application/vnd.jupyter.widget-view+json": {
       "model_id": "fef7921f89a741229470ec6c2244be07",
       "version_major": 2,
       "version_minor": 0
      },
      "text/plain": [
       "VBox()"
      ]
     },
     "metadata": {},
     "output_type": "display_data"
    },
    {
     "data": {
      "application/vnd.jupyter.widget-view+json": {
       "model_id": "",
       "version_major": 2,
       "version_minor": 0
      },
      "text/plain": [
       "FloatProgress(value=0.0, bar_style='info', description='Progress:', layout=Layout(height='25px', width='50%'),…"
      ]
     },
     "metadata": {},
     "output_type": "display_data"
    }
   ],
   "source": [
    "from pyspark.ml.regression import DecisionTreeRegressor\n",
    "from pyspark.ml.evaluation import RegressionEvaluator"
   ]
  },
  {
   "cell_type": "code",
   "execution_count": 164,
   "metadata": {},
   "outputs": [
    {
     "data": {
      "application/vnd.jupyter.widget-view+json": {
       "model_id": "41502c7b1ac54de1bcfcf691561c3144",
       "version_major": 2,
       "version_minor": 0
      },
      "text/plain": [
       "VBox()"
      ]
     },
     "metadata": {},
     "output_type": "display_data"
    },
    {
     "data": {
      "application/vnd.jupyter.widget-view+json": {
       "model_id": "",
       "version_major": 2,
       "version_minor": 0
      },
      "text/plain": [
       "FloatProgress(value=0.0, bar_style='info', description='Progress:', layout=Layout(height='25px', width='50%'),…"
      ]
     },
     "metadata": {},
     "output_type": "display_data"
    }
   ],
   "source": [
    "dt = DecisionTreeRegressor(labelCol=\"fare_amount\", featuresCol= \"features\")\n",
    "model = dt.fit(train_set)\n",
    "\n",
    "predictions = model.transform(test_set)"
   ]
  },
  {
   "cell_type": "code",
   "execution_count": 165,
   "metadata": {},
   "outputs": [
    {
     "data": {
      "application/vnd.jupyter.widget-view+json": {
       "model_id": "5fa47eebc3a4451e94dc5ba92818508b",
       "version_major": 2,
       "version_minor": 0
      },
      "text/plain": [
       "VBox()"
      ]
     },
     "metadata": {},
     "output_type": "display_data"
    },
    {
     "data": {
      "application/vnd.jupyter.widget-view+json": {
       "model_id": "",
       "version_major": 2,
       "version_minor": 0
      },
      "text/plain": [
       "FloatProgress(value=0.0, bar_style='info', description='Progress:', layout=Layout(height='25px', width='50%'),…"
      ]
     },
     "metadata": {},
     "output_type": "display_data"
    },
    {
     "name": "stdout",
     "output_type": "stream",
     "text": [
      "+------------------+-----------+\n",
      "|        prediction|fare_amount|\n",
      "+------------------+-----------+\n",
      "|26.292193752552055|        2.5|\n",
      "|26.292193752552055|        2.5|\n",
      "|26.292193752552055|        2.5|\n",
      "|26.292193752552055|        2.5|\n",
      "|26.292193752552055|        2.5|\n",
      "+------------------+-----------+\n",
      "only showing top 5 rows"
     ]
    }
   ],
   "source": [
    "predictions.select(\"prediction\", \"fare_amount\").show(5)"
   ]
  },
  {
   "cell_type": "code",
   "execution_count": 166,
   "metadata": {},
   "outputs": [
    {
     "data": {
      "application/vnd.jupyter.widget-view+json": {
       "model_id": "3760dea99dea4614a97be03b4304b0cb",
       "version_major": 2,
       "version_minor": 0
      },
      "text/plain": [
       "VBox()"
      ]
     },
     "metadata": {},
     "output_type": "display_data"
    },
    {
     "data": {
      "application/vnd.jupyter.widget-view+json": {
       "model_id": "",
       "version_major": 2,
       "version_minor": 0
      },
      "text/plain": [
       "FloatProgress(value=0.0, bar_style='info', description='Progress:', layout=Layout(height='25px', width='50%'),…"
      ]
     },
     "metadata": {},
     "output_type": "display_data"
    },
    {
     "name": "stdout",
     "output_type": "stream",
     "text": [
      "RMSE Error on test set:  4.281480982734822"
     ]
    }
   ],
   "source": [
    "evaluator = RegressionEvaluator(predictionCol=\"prediction\", labelCol=\"fare_amount\",metricName=\"rmse\")\n",
    "print(\"RMSE Error on test set: \", evaluator.evaluate(predictions))"
   ]
  }
 ],
 "metadata": {
  "kernelspec": {
   "display_name": "Python 3",
   "language": "python",
   "name": "python3"
  },
  "language_info": {
   "codemirror_mode": {
    "name": "ipython",
    "version": 3
   },
   "file_extension": ".py",
   "mimetype": "text/x-python",
   "name": "python",
   "nbconvert_exporter": "python",
   "pygments_lexer": "ipython3",
   "version": "3.8.3"
  }
 },
 "nbformat": 4,
 "nbformat_minor": 4
}
